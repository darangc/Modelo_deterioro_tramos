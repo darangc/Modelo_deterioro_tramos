{
 "cells": [
  {
   "cell_type": "markdown",
   "metadata": {
    "id": "FwSGnTXHGiB8"
   },
   "source": [
    "# Selección de modelo"
   ]
  },
  {
   "cell_type": "markdown",
   "metadata": {},
   "source": [
    "# Definiciones"
   ]
  },
  {
   "cell_type": "code",
   "execution_count": 1,
   "metadata": {
    "executionInfo": {
     "elapsed": 1887,
     "status": "ok",
     "timestamp": 1692760838236,
     "user": {
      "displayName": "Juan de Villeros",
      "userId": "10297202580344304481"
     },
     "user_tz": 300
    },
    "id": "gdG7wONkGwSo"
   },
   "outputs": [],
   "source": [
    "# Bibliotecas\n",
    "\n",
    "import pandas as pd\n",
    "import numpy as np\n",
    "import matplotlib.pyplot as plt\n",
    "\n",
    "from sklearn.linear_model import LogisticRegression\n",
    "from sklearn.ensemble import HistGradientBoostingClassifier\n",
    "from sklearn.neural_network import MLPClassifier\n",
    "from xgboost import XGBClassifier\n",
    "\n",
    "from sklearn.model_selection import train_test_split, GridSearchCV, cross_validate\n",
    "from sklearn.metrics import make_scorer, recall_score, f1_score, accuracy_score"
   ]
  },
  {
   "cell_type": "code",
   "execution_count": 2,
   "metadata": {
    "executionInfo": {
     "elapsed": 1278,
     "status": "ok",
     "timestamp": 1692760848470,
     "user": {
      "displayName": "Juan de Villeros",
      "userId": "10297202580344304481"
     },
     "user_tz": 300
    },
    "id": "Wi_PNYMGG4hI"
   },
   "outputs": [],
   "source": [
    "# Definiciones globales\n",
    "\n",
    "%run ../Lib/pandas_options.py\n",
    "%run ../Lib/define_constantes.py"
   ]
  },
  {
   "cell_type": "markdown",
   "metadata": {},
   "source": [
    "# Cargar datos"
   ]
  },
  {
   "cell_type": "code",
   "execution_count": 3,
   "metadata": {
    "colab": {
     "base_uri": "https://localhost:8080/"
    },
    "executionInfo": {
     "elapsed": 1352,
     "status": "ok",
     "timestamp": 1692760854676,
     "user": {
      "displayName": "Juan de Villeros",
      "userId": "10297202580344304481"
     },
     "user_tz": 300
    },
    "id": "A1ZL_fI9G7QI",
    "outputId": "744b9009-e2a7-478a-cc9d-8e017aad85ff"
   },
   "outputs": [
    {
     "name": "stdout",
     "output_type": "stream",
     "text": [
      "\n",
      "Variables de entrada (X):\n",
      "20 columnas:\n",
      "['EDAD', 'DIAMETRO', 'LONGITUD', 'AREA', 'PROF_BATEA', 'PROF_BATE1', 'PENDIENTE', 'ARRANQUE', 'ZONA_SUR', 'MUNICIPIO_MEDELLIN', 'ESTADO_OPERACION', 'TIPO_AGUA_COMBINADAS', 'TIPO_AGUA_LLUVIAS Y DESCARGAS', 'TIPO_AGUA_OTRAS', 'MATERIAL_CONCRETO REFORZADO Y OTROS', 'MATERIAL_CONCRETO SIMPLE', 'MATERIAL_PVC', 'FABRICANTE_INDUSTRIAS DIQUE S.A.', 'FABRICANTE_MEXICHEM COLOMBIA S.A.S.', 'FABRICANTE_OTROS']\n",
      "--------------------------------------------------------------------------------------------\n",
      "\n",
      "Variable dependiente (Y):\n",
      "<class 'pandas.core.series.Series'>\n",
      "RangeIndex: 25674 entries, 0 to 25673\n",
      "Series name: DETERIORADO\n",
      "Non-Null Count  Dtype\n",
      "--------------  -----\n",
      "25674 non-null  bool \n",
      "dtypes: bool(1)\n",
      "memory usage: 25.2 KB\n",
      "None\n",
      "DETERIORADO\n",
      "False    14246\n",
      "True     11428\n",
      "Name: count, dtype: int64\n"
     ]
    }
   ],
   "source": [
    "# Cargar datos ya preprocesados y dividirlos en variables independientes (X) y variable dependiente objetivo (Y)\n",
    "\n",
    "archivo_datos_codificados = f'{DIRECTORIO_RESULTADOS}/DATOSCODIFICADOS.csv'\n",
    "df_datos_codificados = pd.read_csv(archivo_datos_codificados, low_memory=False)\n",
    "\n",
    "X = df_datos_codificados.drop('DETERIORADO', axis='columns')\n",
    "Y = df_datos_codificados['DETERIORADO']\n",
    "\n",
    "print('\\nVariables de entrada (X):')\n",
    "print(f'{len(X.columns)} columnas:\\n{X.columns.to_list()}')\n",
    "print('-' * 92)\n",
    "print('\\nVariable dependiente (Y):')\n",
    "print(Y.info())\n",
    "print(Y.value_counts().sort_index())"
   ]
  },
  {
   "cell_type": "markdown",
   "metadata": {
    "id": "8ua7Y5cSNxki"
   },
   "source": [
    "# Verificar balance de variable dependiente"
   ]
  },
  {
   "cell_type": "code",
   "execution_count": 4,
   "metadata": {
    "colab": {
     "base_uri": "https://localhost:8080/",
     "height": 472
    },
    "executionInfo": {
     "elapsed": 703,
     "status": "ok",
     "timestamp": 1692760960779,
     "user": {
      "displayName": "Juan de Villeros",
      "userId": "10297202580344304481"
     },
     "user_tz": 300
    },
    "id": "OAcuwn1_BIMm",
    "outputId": "b063de35-3ba2-4fd3-cc2c-2590ede8fc4c"
   },
   "outputs": [
    {
     "name": "stdout",
     "output_type": "stream",
     "text": [
      "Balance=80.22%, Proporción=1.25, ajuste_prob=30.22%\n"
     ]
    },
    {
     "data": {
      "image/png": "[encoded data removed]",
      "text/plain": [
       "<Figure size 640x480 with 1 Axes>"
      ]
     },
     "metadata": {},
     "output_type": "display_data"
    }
   ],
   "source": [
    "conteo = Y.value_counts()\n",
    "balance = (min(conteo) / max(conteo))\n",
    "proporcion = max(conteo) / min(conteo)\n",
    "ajuste_prob = .5 - (1 - balance)\n",
    "print(f'Balance={balance:.2%}, Proporción={proporcion:.2f}, ajuste_prob={ajuste_prob:.2%}')\n",
    "\n",
    "plt.bar(conteo.index.astype(str), conteo.values, color=['lightgreen', 'red'])\n",
    "for i, valor in enumerate(conteo.values):\n",
    "    plt.text(i, valor + 0.1, str(valor), ha='center', va='bottom')\n",
    "\n",
    "plt.xlabel('DETERIORADO')\n",
    "plt.ylabel('Cantidad')\n",
    "plt.title(f'Nivel de balance de variable dependiente: {balance:.2%}')\n",
    "plt.show()"
   ]
  },
  {
   "cell_type": "markdown",
   "metadata": {
    "id": "WHUFj2ATF51G"
   },
   "source": [
    "# Crear estructuras para almacenar modelos y sus resultados"
   ]
  },
  {
   "cell_type": "code",
   "execution_count": 5,
   "metadata": {
    "executionInfo": {
     "elapsed": 324,
     "status": "ok",
     "timestamp": 1692760983551,
     "user": {
      "displayName": "Juan de Villeros",
      "userId": "10297202580344304481"
     },
     "user_tz": 300
    },
    "id": "ygZJ41zad-BQ"
   },
   "outputs": [],
   "source": [
    "# Definir clase para evaluación de modelos\n",
    "class EvaluacionModeloML:\n",
    "    def __init__(self, modelo, param_grid={}):\n",
    "        self.isTrained = False\n",
    "        self.modelo = modelo\n",
    "        self.param_grid = param_grid\n",
    "        self.best_params = {}\n",
    "        self.scoresCV = None # Para resultados de cross_validate\n",
    "\n",
    "# Inicializar diccionario de evaluaciones\n",
    "dict_evaluaciones = {}\n",
    "\n",
    "# Rango de balance de clases\n",
    "class_weights_list = [\n",
    "    {False: 1,               True: (1 + ajuste_prob)}, \n",
    "    {False: (1-ajuste_prob), True: 1},\n",
    "    {False: 1, True: proporcion},\n",
    "]"
   ]
  },
  {
   "cell_type": "markdown",
   "metadata": {
    "id": "rhzhPjAPnKQY"
   },
   "source": [
    "# Configurar modelos candidatos"
   ]
  },
  {
   "cell_type": "markdown",
   "metadata": {},
   "source": [
    "### Logistic Regression"
   ]
  },
  {
   "cell_type": "code",
   "execution_count": 6,
   "metadata": {},
   "outputs": [],
   "source": [
    "dict_evaluaciones['LGR'] = EvaluacionModeloML(\n",
    "    modelo = LogisticRegression(),\n",
    "    param_grid = {\n",
    "        'C'                      : [2 ],\n",
    "        'class_weight'           : [class_weights_list[1]],\n",
    "        #'dual'                   : [False, ],\n",
    "        #'fit_intercept'          : [True, False, ],\n",
    "        #'intercept_scaling'      : [1, 0.1, 10, ],\n",
    "        #'l1_ratio'               : [None, ],\n",
    "        #'max_iter'               : [100, 1000 ],\n",
    "        #'multi_class'            : ['auto', ],\n",
    "        'n_jobs'                 : [-1],\n",
    "        #'penalty'                : ['l2', None],\n",
    "        'solver'                 : ['newton-cholesky'],\n",
    "        #'tol'                    : [0.0001, 1e-05, 0.001, ],\n",
    "        #'warm_start'             : [True, False],\n",
    "    }\n",
    ")"
   ]
  },
  {
   "cell_type": "markdown",
   "metadata": {},
   "source": [
    "### Histogram-based Gradient Boosting Classification Tree"
   ]
  },
  {
   "cell_type": "code",
   "execution_count": 7,
   "metadata": {},
   "outputs": [],
   "source": [
    "dict_evaluaciones['HGBC'] = EvaluacionModeloML(\n",
    "    modelo = HistGradientBoostingClassifier(),\n",
    "    param_grid = {\n",
    "        # 'categorical_features'   : ['warn', ],\n",
    "        'class_weight'           : [class_weights_list[1]],\n",
    "        # 'class_weight'           : [{False: 1, True: proporcion}],\n",
    "        # 'interaction_cst'        : [None, ],\n",
    "        'l2_regularization'      : [1],\n",
    "        'learning_rate'          : [0.015],\n",
    "        # 'loss'                   : ['log_loss', ],\n",
    "         'max_bins'               : [255],\n",
    "        'max_depth'              : [None],\n",
    "        # 'max_features'           : [1.0, 0.1, 10.0, ],\n",
    "        'max_iter'               : [100],\n",
    "        'max_leaf_nodes'         : [63],\n",
    "        'min_samples_leaf'       : [5],\n",
    "        # 'monotonic_cst'          : [None, ],\n",
    "        'n_iter_no_change'       : [10],\n",
    "        'scoring'                : ['loss'],\n",
    "        # 'tol'                    : [1e-07, 1e-08, 1e-06, ],\n",
    "        # 'validation_fraction'    : [0.1, 0.01, 1.0, ],\n",
    "        'early_stopping'         : [False],\n",
    "    }\n",
    ")"
   ]
  },
  {
   "cell_type": "markdown",
   "metadata": {},
   "source": [
    "### Multi-layer perceptron Classifier (Red neuronal)"
   ]
  },
  {
   "cell_type": "code",
   "execution_count": 8,
   "metadata": {},
   "outputs": [],
   "source": [
    "dict_evaluaciones['MLPdefault'] = EvaluacionModeloML(\n",
    "    modelo = MLPClassifier(),\n",
    "    param_grid = {\n",
    "        # 'activation'             : ['tanh'],\n",
    "        # 'alpha'                  : [0.0001, 1e-05, 0.001, ],\n",
    "        # 'batch_size'             : ['auto', ],\n",
    "        # 'beta_1'                 : [0.9, 0.09, 9.0, ],\n",
    "        # 'beta_2'                 : [0.999, 0.0999, 9.99, ],\n",
    "        # 'epsilon'                : [1e-08, 1e-09, 1e-07, ],\n",
    "        #'hidden_layer_sizes'     : [(100,), (100, 100), (32, 64, 32)],\n",
    "        #'hidden_layer_sizes'     : [(32, 64, 32), (32, 64, 128, 64, 32)],\n",
    "        # 'hidden_layer_sizes'     : [(32, 64, 32), (64, 128, 64), (128, 128, 128)],\n",
    "        # 'hidden_layer_sizes'     : [(96, 96, 96, 96)],\n",
    "        # 'learning_rate'          : ['constant'], #'adaptive', 'invscaling'],\n",
    "        #  'learning_rate_init'     : [0.0001],\n",
    "        # 'max_fun'                : [15000, 1500.0, 150000, ],\n",
    "        # 'max_iter'               : [5000],\n",
    "        #  'momentum'               : [0.5],\n",
    "        # 'n_iter_no_change'       : [10, 1.0, 100, ],\n",
    "        # 'nesterovs_momentum'     : [True, False, ],\n",
    "        # 'power_t'                : [0.5, 0.05, 5.0, ],\n",
    "        # 'solver'                 : ['sgd'],\n",
    "        # 'tol'                    : [0.0001, 1e-05, 0.001, ],\n",
    "        # 'validation_fraction'    : [0.1, 0.01, 1.0, ],\n",
    "        # 'warm_start'             : [False],\n",
    "    }\n",
    ")"
   ]
  },
  {
   "cell_type": "code",
   "execution_count": 9,
   "metadata": {},
   "outputs": [],
   "source": [
    "dict_evaluaciones['MLP01'] = EvaluacionModeloML(\n",
    "    modelo = MLPClassifier(),\n",
    "    param_grid = {\n",
    "        'activation'             : ['logistic'],\n",
    "        #'alpha'                  : [0.0001, 1e-05],\n",
    "        # 'batch_size'             : ['auto', ],\n",
    "        # 'beta_1'                 : [0.9, 0.09, 9.0, ],\n",
    "        # 'beta_2'                 : [0.999, 0.0999, 9.99, ],\n",
    "        # 'epsilon'                : [1e-08, 1e-09, 1e-07, ],\n",
    "        'hidden_layer_sizes'     : [(40)],\n",
    "        #'hidden_layer_sizes'     : [(32, 64, 32), (32, 64, 128, 64, 32)],\n",
    "        # 'hidden_layer_sizes'     : [(32, 64, 32), (64, 128, 64), (128, 128, 128)],\n",
    "        # 'hidden_layer_sizes'     : [(96, 96, 96, 96)],\n",
    "        # 'learning_rate'          : ['constant', 'adaptive', 'invscaling'],\n",
    "        #'learning_rate_init'     : [0.0001],\n",
    "        # 'max_fun'                : [15000, 1500.0, 150000, ],\n",
    "        'max_iter'               : [5000],\n",
    "        #  'momentum'               : [0.5],\n",
    "        # 'n_iter_no_change'       : [10, 1.0, 100, ],\n",
    "        # 'nesterovs_momentum'     : [True, False, ],\n",
    "        # 'power_t'                : [0.5, 0.05, 5.0, ],\n",
    "        # 'solver'                 : ['sgd'],\n",
    "        # 'tol'                    : [0.0001, 1e-05, 0.001, ],\n",
    "        # 'validation_fraction'    : [0.1, 0.01, 1.0, ],\n",
    "        # 'warm_start'             : [False],\n",
    "    }\n",
    ")"
   ]
  },
  {
   "cell_type": "code",
   "execution_count": 10,
   "metadata": {},
   "outputs": [],
   "source": [
    "dict_evaluaciones['MLP02'] = EvaluacionModeloML(\n",
    "    modelo = MLPClassifier(),\n",
    "    param_grid = {\n",
    "        'activation'             : ['tanh'],\n",
    "        'alpha'                  : [0.0001],\n",
    "        # 'batch_size'             : ['auto', ],\n",
    "        # 'beta_1'                 : [0.9, 0.09, 9.0, ],\n",
    "        # 'beta_2'                 : [0.999, 0.0999, 9.99, ],\n",
    "        # 'epsilon'                : [1e-08, 1e-09, 1e-07, ],\n",
    "        'hidden_layer_sizes'     : [(40)],\n",
    "        #'hidden_layer_sizes'     : [(32, 64, 32), (32, 64, 128, 64, 32)],\n",
    "        # 'hidden_layer_sizes'     : [(32, 64, 32), (64, 128, 64), (128, 128, 128)],\n",
    "        # 'hidden_layer_sizes'     : [(96, 96, 96, 96)],\n",
    "        'learning_rate'          : ['constant'],\n",
    "        'learning_rate_init'     : [0.001],\n",
    "        # 'max_fun'                : [15000, 1500.0, 150000, ],\n",
    "        'max_iter'               : [5000],\n",
    "        #  'momentum'               : [0.5],\n",
    "        # 'n_iter_no_change'       : [10, 1.0, 100, ],\n",
    "        # 'nesterovs_momentum'     : [True, False, ],\n",
    "        # 'power_t'                : [0.5, 0.05, 5.0, ],\n",
    "        'solver'                 : ['sgd'],\n",
    "        # 'tol'                    : [0.0001, 1e-05, 0.001, ],\n",
    "        # 'validation_fraction'    : [0.1, 0.01, 1.0, ],\n",
    "        # 'warm_start'             : [False],\n",
    "    }\n",
    ")"
   ]
  },
  {
   "cell_type": "markdown",
   "metadata": {},
   "source": [
    "### XGBoost"
   ]
  },
  {
   "cell_type": "code",
   "execution_count": 11,
   "metadata": {},
   "outputs": [],
   "source": [
    "dict_evaluaciones['XGB01'] = EvaluacionModeloML(\n",
    "    modelo = XGBClassifier(),\n",
    "    param_grid = {\n",
    "        'objective'              : ['binary:logistic'],\n",
    "        # 'base_score'             : [None, ],\n",
    "        # 'booster'                : [None, ],\n",
    "        # 'callbacks'              : [None, ],\n",
    "        # 'colsample_bylevel'      : [None, ],\n",
    "        # 'colsample_bynode'       : [None, ],\n",
    "        # 'colsample_bytree'       : [None, ],\n",
    "        # 'device'                 : ['gpu'],\n",
    "        # 'early_stopping_rounds'  : [None, ],\n",
    "        # 'enable_categorical'     : [False, True, ],\n",
    "        'eval_metric'            : ['logloss'],\n",
    "        # 'feature_types'          : [None, ],\n",
    "        # 'gamma'                  : [None, ],\n",
    "        # 'grow_policy'            : [None, ],\n",
    "        # 'importance_type'        : [None, ],\n",
    "        # 'interaction_constraints': [None, ],\n",
    "        'learning_rate'          : [0.01],\n",
    "        # 'max_bin'                : [None, ],\n",
    "        # 'max_cat_threshold'      : [None, ],\n",
    "        # 'max_cat_to_onehot'      : [None, ],\n",
    "        # 'max_delta_step'         : [None, ],\n",
    "        'max_depth'              : [3],\n",
    "        # 'max_leaves'             : [None, ],\n",
    "        'min_child_weight'       : [0.05],\n",
    "        # 'missing'                : [nan, nan, nan, ],\n",
    "        # 'monotone_constraints'   : [None, ],\n",
    "        # 'multi_strategy'         : [None, ],\n",
    "        # 'n_estimators'           : [None, 500],\n",
    "        'n_jobs'                 : [-1],\n",
    "        # 'num_parallel_tree'      : [None, ],\n",
    "        # 'reg_alpha'              : [0, 1],\n",
    "        'reg_lambda'             : [10],\n",
    "        # 'sampling_method'        : [None, ],\n",
    "        'scale_pos_weight'       : [1+ajuste_prob, 1],\n",
    "        'subsample'              : [0.5],\n",
    "        # 'tree_method'            : [None, ],\n",
    "        # 'validate_parameters'    : [None, ],\n",
    "        # 'verbosity'              : [None, ],\n",
    "    }\n",
    ")"
   ]
  },
  {
   "cell_type": "markdown",
   "metadata": {},
   "source": [
    "## Valores detectados"
   ]
  },
  {
   "cell_type": "code",
   "execution_count": 12,
   "metadata": {},
   "outputs": [],
   "source": [
    "# dict_evaluaciones[\"LGR\"].best_params = {'C': 2, 'class_weight': {False: 0.6978099115541204, True: 1}, 'n_jobs': -1, 'solver': 'newton-cholesky'}\n",
    "# dict_evaluaciones[\"HGBC\"].best_params = {'class_weight': {False: 0.6978099115541204, True: 1}, 'early_stopping': False, 'l2_regularization': 1, 'learning_rate': 0.015, 'max_bins': 255, 'max_depth': None, 'max_iter': 100, 'max_leaf_nodes': 63, 'min_samples_leaf': 5, 'n_iter_no_change': 10, 'scoring': 'loss'}\n",
    "# dict_evaluaciones[\"MLPdefault\"].best_params = {'activation': 'relu'}\n",
    "# dict_evaluaciones[\"MLP01\"].best_params = {'activation': 'logistic', 'hidden_layer_sizes': 40, 'max_iter': 5000}\n",
    "# dict_evaluaciones[\"MLP02\"].best_params = {'activation': 'tanh', 'alpha': 0.0001, 'hidden_layer_sizes': 40, 'learning_rate': 'constant', 'learning_rate_init': 0.001, 'max_iter': 5000, 'solver': 'sgd'}\n",
    "# dict_evaluaciones[\"XGB01\"].best_params = {'device': 'gpu', 'eval_metric': 'logloss', 'learning_rate': 0.01, 'max_depth': 3, 'min_child_weight': 0.05, 'n_jobs': -1, 'objective': 'binary:logistic', 'reg_lambda': 10, 'scale_pos_weight': 1.3021900884458795, 'subsample': 0.5}"
   ]
  },
  {
   "cell_type": "markdown",
   "metadata": {},
   "source": [
    "## Separación de datos de entrenamiento y validación"
   ]
  },
  {
   "cell_type": "code",
   "execution_count": 13,
   "metadata": {},
   "outputs": [],
   "source": [
    "x_train, x_test, y_train, y_test = train_test_split(X, Y)"
   ]
  },
  {
   "cell_type": "markdown",
   "metadata": {
    "id": "NwuXGw8TnTsk"
   },
   "source": [
    "## Búsqueda de hiperparámetros de cada modelo"
   ]
  },
  {
   "cell_type": "code",
   "execution_count": 14,
   "metadata": {
    "colab": {
     "base_uri": "https://localhost:8080/"
    },
    "executionInfo": {
     "elapsed": 333,
     "status": "ok",
     "timestamp": 1692761037439,
     "user": {
      "displayName": "Juan de Villeros",
      "userId": "10297202580344304481"
     },
     "user_tz": 300
    },
    "id": "jxqu6SksCkgo",
    "outputId": "4211e392-b817-463e-dccf-b9386e659923"
   },
   "outputs": [
    {
     "name": "stdout",
     "output_type": "stream",
     "text": [
      "Cálculo de hiperparámetros\n",
      "--------------------------------------------------------------------------------\n",
      "\n",
      "LGR\n",
      "Fitting 10 folds for each of 1 candidates, totalling 10 fits\n",
      "[CV 1/10] END C=2, class_weight={False: 0.6978099115541204, True: 1}, n_jobs=-1, solver=newton-cholesky;, score=0.749 total time=   1.5s\n",
      "[CV 2/10] END C=2, class_weight={False: 0.6978099115541204, True: 1}, n_jobs=-1, solver=newton-cholesky;, score=0.753 total time=   0.7s\n",
      "[CV 3/10] END C=2, class_weight={False: 0.6978099115541204, True: 1}, n_jobs=-1, solver=newton-cholesky;, score=0.744 total time=   0.6s\n",
      "[CV 4/10] END C=2, class_weight={False: 0.6978099115541204, True: 1}, n_jobs=-1, solver=newton-cholesky;, score=0.741 total time=   0.6s\n",
      "[CV 5/10] END C=2, class_weight={False: 0.6978099115541204, True: 1}, n_jobs=-1, solver=newton-cholesky;, score=0.744 total time=   0.6s\n",
      "[CV 6/10] END C=2, class_weight={False: 0.6978099115541204, True: 1}, n_jobs=-1, solver=newton-cholesky;, score=0.745 total time=   0.6s\n",
      "[CV 7/10] END C=2, class_weight={False: 0.6978099115541204, True: 1}, n_jobs=-1, solver=newton-cholesky;, score=0.749 total time=   0.5s\n",
      "[CV 8/10] END C=2, class_weight={False: 0.6978099115541204, True: 1}, n_jobs=-1, solver=newton-cholesky;, score=0.768 total time=   0.6s\n",
      "[CV 9/10] END C=2, class_weight={False: 0.6978099115541204, True: 1}, n_jobs=-1, solver=newton-cholesky;, score=0.726 total time=   0.6s\n",
      "[CV 10/10] END C=2, class_weight={False: 0.6978099115541204, True: 1}, n_jobs=-1, solver=newton-cholesky;, score=0.769 total time=   0.6s\n",
      "Modelo: LogisticRegression(C=2, class_weight={False: 0.6978099115541204, True: 1},\n",
      "                   n_jobs=-1, solver='newton-cholesky')\n",
      "{'C': 2, 'class_weight': {False: 0.6978099115541204, True: 1}, 'dual': False, 'fit_intercept': True, 'intercept_scaling': 1, 'l1_ratio': None, 'max_iter': 100, 'multi_class': 'deprecated', 'n_jobs': -1, 'penalty': 'l2', 'random_state': None, 'solver': 'newton-cholesky', 'tol': 0.0001, 'verbose': 0, 'warm_start': False}\n",
      "--------------------------------------------------------------------------------\n",
      "\n",
      "HGBC\n",
      "Fitting 10 folds for each of 1 candidates, totalling 10 fits\n",
      "[CV 1/10] END class_weight={False: 0.6978099115541204, True: 1}, early_stopping=False, l2_regularization=1, learning_rate=0.015, max_bins=255, max_depth=None, max_iter=100, max_leaf_nodes=63, min_samples_leaf=5, n_iter_no_change=10, scoring=loss;, score=0.761 total time=   0.8s\n",
      "[CV 2/10] END class_weight={False: 0.6978099115541204, True: 1}, early_stopping=False, l2_regularization=1, learning_rate=0.015, max_bins=255, max_depth=None, max_iter=100, max_leaf_nodes=63, min_samples_leaf=5, n_iter_no_change=10, scoring=loss;, score=0.765 total time=   0.8s\n",
      "[CV 3/10] END class_weight={False: 0.6978099115541204, True: 1}, early_stopping=False, l2_regularization=1, learning_rate=0.015, max_bins=255, max_depth=None, max_iter=100, max_leaf_nodes=63, min_samples_leaf=5, n_iter_no_change=10, scoring=loss;, score=0.762 total time=   0.8s\n",
      "[CV 4/10] END class_weight={False: 0.6978099115541204, True: 1}, early_stopping=False, l2_regularization=1, learning_rate=0.015, max_bins=255, max_depth=None, max_iter=100, max_leaf_nodes=63, min_samples_leaf=5, n_iter_no_change=10, scoring=loss;, score=0.751 total time=   0.8s\n",
      "[CV 5/10] END class_weight={False: 0.6978099115541204, True: 1}, early_stopping=False, l2_regularization=1, learning_rate=0.015, max_bins=255, max_depth=None, max_iter=100, max_leaf_nodes=63, min_samples_leaf=5, n_iter_no_change=10, scoring=loss;, score=0.751 total time=   0.8s\n",
      "[CV 6/10] END class_weight={False: 0.6978099115541204, True: 1}, early_stopping=False, l2_regularization=1, learning_rate=0.015, max_bins=255, max_depth=None, max_iter=100, max_leaf_nodes=63, min_samples_leaf=5, n_iter_no_change=10, scoring=loss;, score=0.750 total time=   0.8s\n",
      "[CV 7/10] END class_weight={False: 0.6978099115541204, True: 1}, early_stopping=False, l2_regularization=1, learning_rate=0.015, max_bins=255, max_depth=None, max_iter=100, max_leaf_nodes=63, min_samples_leaf=5, n_iter_no_change=10, scoring=loss;, score=0.764 total time=   0.8s\n",
      "[CV 8/10] END class_weight={False: 0.6978099115541204, True: 1}, early_stopping=False, l2_regularization=1, learning_rate=0.015, max_bins=255, max_depth=None, max_iter=100, max_leaf_nodes=63, min_samples_leaf=5, n_iter_no_change=10, scoring=loss;, score=0.777 total time=   0.8s\n",
      "[CV 9/10] END class_weight={False: 0.6978099115541204, True: 1}, early_stopping=False, l2_regularization=1, learning_rate=0.015, max_bins=255, max_depth=None, max_iter=100, max_leaf_nodes=63, min_samples_leaf=5, n_iter_no_change=10, scoring=loss;, score=0.724 total time=   0.9s\n",
      "[CV 10/10] END class_weight={False: 0.6978099115541204, True: 1}, early_stopping=False, l2_regularization=1, learning_rate=0.015, max_bins=255, max_depth=None, max_iter=100, max_leaf_nodes=63, min_samples_leaf=5, n_iter_no_change=10, scoring=loss;, score=0.778 total time=   0.9s\n",
      "Modelo: HistGradientBoostingClassifier(class_weight={False: 0.6978099115541204,\n",
      "                                             True: 1},\n",
      "                               early_stopping=False, l2_regularization=1,\n",
      "                               learning_rate=0.015, max_leaf_nodes=63,\n",
      "                               min_samples_leaf=5)\n",
      "{'categorical_features': 'warn', 'class_weight': {False: 0.6978099115541204, True: 1}, 'early_stopping': False, 'interaction_cst': None, 'l2_regularization': 1, 'learning_rate': 0.015, 'loss': 'log_loss', 'max_bins': 255, 'max_depth': None, 'max_features': 1.0, 'max_iter': 100, 'max_leaf_nodes': 63, 'min_samples_leaf': 5, 'monotonic_cst': None, 'n_iter_no_change': 10, 'random_state': None, 'scoring': 'loss', 'tol': 1e-07, 'validation_fraction': 0.1, 'verbose': 0, 'warm_start': False}\n",
      "--------------------------------------------------------------------------------\n",
      "\n",
      "MLPdefault\n",
      "Fitting 10 folds for each of 1 candidates, totalling 10 fits\n"
     ]
    },
    {
     "name": "stderr",
     "output_type": "stream",
     "text": [
      "d:\\Desarrollo\\JupyterNotebooks\\EPM\\Modelo_deterioro_tramos_v02\\.venv\\Lib\\site-packages\\sklearn\\neural_network\\_multilayer_perceptron.py:690: ConvergenceWarning: Stochastic Optimizer: Maximum iterations (200) reached and the optimization hasn't converged yet.\n",
      "  warnings.warn(\n"
     ]
    },
    {
     "name": "stdout",
     "output_type": "stream",
     "text": [
      "[CV 1/10] END .................................., score=0.730 total time=   7.2s\n"
     ]
    },
    {
     "name": "stderr",
     "output_type": "stream",
     "text": [
      "d:\\Desarrollo\\JupyterNotebooks\\EPM\\Modelo_deterioro_tramos_v02\\.venv\\Lib\\site-packages\\sklearn\\neural_network\\_multilayer_perceptron.py:690: ConvergenceWarning: Stochastic Optimizer: Maximum iterations (200) reached and the optimization hasn't converged yet.\n",
      "  warnings.warn(\n"
     ]
    },
    {
     "name": "stdout",
     "output_type": "stream",
     "text": [
      "[CV 2/10] END .................................., score=0.734 total time=   7.3s\n"
     ]
    },
    {
     "name": "stderr",
     "output_type": "stream",
     "text": [
      "d:\\Desarrollo\\JupyterNotebooks\\EPM\\Modelo_deterioro_tramos_v02\\.venv\\Lib\\site-packages\\sklearn\\neural_network\\_multilayer_perceptron.py:690: ConvergenceWarning: Stochastic Optimizer: Maximum iterations (200) reached and the optimization hasn't converged yet.\n",
      "  warnings.warn(\n"
     ]
    },
    {
     "name": "stdout",
     "output_type": "stream",
     "text": [
      "[CV 3/10] END .................................., score=0.733 total time=   7.5s\n"
     ]
    },
    {
     "name": "stderr",
     "output_type": "stream",
     "text": [
      "d:\\Desarrollo\\JupyterNotebooks\\EPM\\Modelo_deterioro_tramos_v02\\.venv\\Lib\\site-packages\\sklearn\\neural_network\\_multilayer_perceptron.py:690: ConvergenceWarning: Stochastic Optimizer: Maximum iterations (200) reached and the optimization hasn't converged yet.\n",
      "  warnings.warn(\n"
     ]
    },
    {
     "name": "stdout",
     "output_type": "stream",
     "text": [
      "[CV 4/10] END .................................., score=0.712 total time=   7.2s\n"
     ]
    },
    {
     "name": "stderr",
     "output_type": "stream",
     "text": [
      "d:\\Desarrollo\\JupyterNotebooks\\EPM\\Modelo_deterioro_tramos_v02\\.venv\\Lib\\site-packages\\sklearn\\neural_network\\_multilayer_perceptron.py:690: ConvergenceWarning: Stochastic Optimizer: Maximum iterations (200) reached and the optimization hasn't converged yet.\n",
      "  warnings.warn(\n"
     ]
    },
    {
     "name": "stdout",
     "output_type": "stream",
     "text": [
      "[CV 5/10] END .................................., score=0.730 total time=   7.2s\n"
     ]
    },
    {
     "name": "stderr",
     "output_type": "stream",
     "text": [
      "d:\\Desarrollo\\JupyterNotebooks\\EPM\\Modelo_deterioro_tramos_v02\\.venv\\Lib\\site-packages\\sklearn\\neural_network\\_multilayer_perceptron.py:690: ConvergenceWarning: Stochastic Optimizer: Maximum iterations (200) reached and the optimization hasn't converged yet.\n",
      "  warnings.warn(\n"
     ]
    },
    {
     "name": "stdout",
     "output_type": "stream",
     "text": [
      "[CV 6/10] END .................................., score=0.729 total time=   7.3s\n"
     ]
    },
    {
     "name": "stderr",
     "output_type": "stream",
     "text": [
      "d:\\Desarrollo\\JupyterNotebooks\\EPM\\Modelo_deterioro_tramos_v02\\.venv\\Lib\\site-packages\\sklearn\\neural_network\\_multilayer_perceptron.py:690: ConvergenceWarning: Stochastic Optimizer: Maximum iterations (200) reached and the optimization hasn't converged yet.\n",
      "  warnings.warn(\n"
     ]
    },
    {
     "name": "stdout",
     "output_type": "stream",
     "text": [
      "[CV 7/10] END .................................., score=0.738 total time=   7.3s\n"
     ]
    },
    {
     "name": "stderr",
     "output_type": "stream",
     "text": [
      "d:\\Desarrollo\\JupyterNotebooks\\EPM\\Modelo_deterioro_tramos_v02\\.venv\\Lib\\site-packages\\sklearn\\neural_network\\_multilayer_perceptron.py:690: ConvergenceWarning: Stochastic Optimizer: Maximum iterations (200) reached and the optimization hasn't converged yet.\n",
      "  warnings.warn(\n"
     ]
    },
    {
     "name": "stdout",
     "output_type": "stream",
     "text": [
      "[CV 8/10] END .................................., score=0.756 total time=   7.1s\n"
     ]
    },
    {
     "name": "stderr",
     "output_type": "stream",
     "text": [
      "d:\\Desarrollo\\JupyterNotebooks\\EPM\\Modelo_deterioro_tramos_v02\\.venv\\Lib\\site-packages\\sklearn\\neural_network\\_multilayer_perceptron.py:690: ConvergenceWarning: Stochastic Optimizer: Maximum iterations (200) reached and the optimization hasn't converged yet.\n",
      "  warnings.warn(\n"
     ]
    },
    {
     "name": "stdout",
     "output_type": "stream",
     "text": [
      "[CV 9/10] END .................................., score=0.717 total time=   7.3s\n"
     ]
    },
    {
     "name": "stderr",
     "output_type": "stream",
     "text": [
      "d:\\Desarrollo\\JupyterNotebooks\\EPM\\Modelo_deterioro_tramos_v02\\.venv\\Lib\\site-packages\\sklearn\\neural_network\\_multilayer_perceptron.py:690: ConvergenceWarning: Stochastic Optimizer: Maximum iterations (200) reached and the optimization hasn't converged yet.\n",
      "  warnings.warn(\n"
     ]
    },
    {
     "name": "stdout",
     "output_type": "stream",
     "text": [
      "[CV 10/10] END ................................., score=0.768 total time=   7.2s\n"
     ]
    },
    {
     "name": "stderr",
     "output_type": "stream",
     "text": [
      "d:\\Desarrollo\\JupyterNotebooks\\EPM\\Modelo_deterioro_tramos_v02\\.venv\\Lib\\site-packages\\sklearn\\neural_network\\_multilayer_perceptron.py:690: ConvergenceWarning: Stochastic Optimizer: Maximum iterations (200) reached and the optimization hasn't converged yet.\n",
      "  warnings.warn(\n"
     ]
    },
    {
     "name": "stdout",
     "output_type": "stream",
     "text": [
      "Modelo: MLPClassifier()\n",
      "{'activation': 'relu', 'alpha': 0.0001, 'batch_size': 'auto', 'beta_1': 0.9, 'beta_2': 0.999, 'early_stopping': False, 'epsilon': 1e-08, 'hidden_layer_sizes': (100,), 'learning_rate': 'constant', 'learning_rate_init': 0.001, 'max_fun': 15000, 'max_iter': 200, 'momentum': 0.9, 'n_iter_no_change': 10, 'nesterovs_momentum': True, 'power_t': 0.5, 'random_state': None, 'shuffle': True, 'solver': 'adam', 'tol': 0.0001, 'validation_fraction': 0.1, 'verbose': False, 'warm_start': False}\n",
      "--------------------------------------------------------------------------------\n",
      "\n",
      "MLP01\n",
      "Fitting 10 folds for each of 1 candidates, totalling 10 fits\n",
      "[CV 1/10] END activation=logistic, hidden_layer_sizes=40, max_iter=5000;, score=0.743 total time=  29.7s\n",
      "[CV 2/10] END activation=logistic, hidden_layer_sizes=40, max_iter=5000;, score=0.749 total time=  29.8s\n",
      "[CV 3/10] END activation=logistic, hidden_layer_sizes=40, max_iter=5000;, score=0.750 total time=   7.2s\n",
      "[CV 4/10] END activation=logistic, hidden_layer_sizes=40, max_iter=5000;, score=0.714 total time=  30.1s\n",
      "[CV 5/10] END activation=logistic, hidden_layer_sizes=40, max_iter=5000;, score=0.732 total time=  20.6s\n",
      "[CV 6/10] END activation=logistic, hidden_layer_sizes=40, max_iter=5000;, score=0.737 total time=  28.2s\n",
      "[CV 7/10] END activation=logistic, hidden_layer_sizes=40, max_iter=5000;, score=0.743 total time=  30.5s\n",
      "[CV 8/10] END activation=logistic, hidden_layer_sizes=40, max_iter=5000;, score=0.752 total time=   5.1s\n",
      "[CV 9/10] END activation=logistic, hidden_layer_sizes=40, max_iter=5000;, score=0.723 total time=  28.5s\n",
      "[CV 10/10] END activation=logistic, hidden_layer_sizes=40, max_iter=5000;, score=0.760 total time=  26.5s\n",
      "Modelo: MLPClassifier(activation='logistic', hidden_layer_sizes=40, max_iter=5000)\n",
      "{'activation': 'logistic', 'alpha': 0.0001, 'batch_size': 'auto', 'beta_1': 0.9, 'beta_2': 0.999, 'early_stopping': False, 'epsilon': 1e-08, 'hidden_layer_sizes': 40, 'learning_rate': 'constant', 'learning_rate_init': 0.001, 'max_fun': 15000, 'max_iter': 5000, 'momentum': 0.9, 'n_iter_no_change': 10, 'nesterovs_momentum': True, 'power_t': 0.5, 'random_state': None, 'shuffle': True, 'solver': 'adam', 'tol': 0.0001, 'validation_fraction': 0.1, 'verbose': False, 'warm_start': False}\n",
      "--------------------------------------------------------------------------------\n",
      "\n",
      "MLP02\n",
      "Fitting 10 folds for each of 1 candidates, totalling 10 fits\n",
      "[CV 1/10] END activation=tanh, alpha=0.0001, hidden_layer_sizes=40, learning_rate=constant, learning_rate_init=0.001, max_iter=5000, solver=sgd;, score=0.729 total time=   0.7s\n",
      "[CV 2/10] END activation=tanh, alpha=0.0001, hidden_layer_sizes=40, learning_rate=constant, learning_rate_init=0.001, max_iter=5000, solver=sgd;, score=0.751 total time=   0.7s\n",
      "[CV 3/10] END activation=tanh, alpha=0.0001, hidden_layer_sizes=40, learning_rate=constant, learning_rate_init=0.001, max_iter=5000, solver=sgd;, score=0.742 total time=   0.7s\n",
      "[CV 4/10] END activation=tanh, alpha=0.0001, hidden_layer_sizes=40, learning_rate=constant, learning_rate_init=0.001, max_iter=5000, solver=sgd;, score=0.718 total time=   0.7s\n",
      "[CV 5/10] END activation=tanh, alpha=0.0001, hidden_layer_sizes=40, learning_rate=constant, learning_rate_init=0.001, max_iter=5000, solver=sgd;, score=0.726 total time=   0.7s\n",
      "[CV 6/10] END activation=tanh, alpha=0.0001, hidden_layer_sizes=40, learning_rate=constant, learning_rate_init=0.001, max_iter=5000, solver=sgd;, score=0.738 total time=   0.8s\n",
      "[CV 7/10] END activation=tanh, alpha=0.0001, hidden_layer_sizes=40, learning_rate=constant, learning_rate_init=0.001, max_iter=5000, solver=sgd;, score=0.739 total time=   0.6s\n",
      "[CV 8/10] END activation=tanh, alpha=0.0001, hidden_layer_sizes=40, learning_rate=constant, learning_rate_init=0.001, max_iter=5000, solver=sgd;, score=0.759 total time=   0.8s\n",
      "[CV 9/10] END activation=tanh, alpha=0.0001, hidden_layer_sizes=40, learning_rate=constant, learning_rate_init=0.001, max_iter=5000, solver=sgd;, score=0.725 total time=   0.8s\n",
      "[CV 10/10] END activation=tanh, alpha=0.0001, hidden_layer_sizes=40, learning_rate=constant, learning_rate_init=0.001, max_iter=5000, solver=sgd;, score=0.759 total time=   0.9s\n",
      "Modelo: MLPClassifier(activation='tanh', hidden_layer_sizes=40, max_iter=5000,\n",
      "              solver='sgd')\n",
      "{'activation': 'tanh', 'alpha': 0.0001, 'batch_size': 'auto', 'beta_1': 0.9, 'beta_2': 0.999, 'early_stopping': False, 'epsilon': 1e-08, 'hidden_layer_sizes': 40, 'learning_rate': 'constant', 'learning_rate_init': 0.001, 'max_fun': 15000, 'max_iter': 5000, 'momentum': 0.9, 'n_iter_no_change': 10, 'nesterovs_momentum': True, 'power_t': 0.5, 'random_state': None, 'shuffle': True, 'solver': 'sgd', 'tol': 0.0001, 'validation_fraction': 0.1, 'verbose': False, 'warm_start': False}\n",
      "--------------------------------------------------------------------------------\n",
      "\n",
      "XGB01\n",
      "Fitting 10 folds for each of 2 candidates, totalling 20 fits\n",
      "[CV 1/10] END eval_metric=logloss, learning_rate=0.01, max_depth=3, min_child_weight=0.05, n_jobs=-1, objective=binary:logistic, reg_lambda=10, scale_pos_weight=1.3021900884458795, subsample=0.5;, score=0.748 total time=   0.2s\n",
      "[CV 2/10] END eval_metric=logloss, learning_rate=0.01, max_depth=3, min_child_weight=0.05, n_jobs=-1, objective=binary:logistic, reg_lambda=10, scale_pos_weight=1.3021900884458795, subsample=0.5;, score=0.765 total time=   0.0s\n",
      "[CV 3/10] END eval_metric=logloss, learning_rate=0.01, max_depth=3, min_child_weight=0.05, n_jobs=-1, objective=binary:logistic, reg_lambda=10, scale_pos_weight=1.3021900884458795, subsample=0.5;, score=0.751 total time=   0.0s\n",
      "[CV 4/10] END eval_metric=logloss, learning_rate=0.01, max_depth=3, min_child_weight=0.05, n_jobs=-1, objective=binary:logistic, reg_lambda=10, scale_pos_weight=1.3021900884458795, subsample=0.5;, score=0.746 total time=   0.0s\n",
      "[CV 5/10] END eval_metric=logloss, learning_rate=0.01, max_depth=3, min_child_weight=0.05, n_jobs=-1, objective=binary:logistic, reg_lambda=10, scale_pos_weight=1.3021900884458795, subsample=0.5;, score=0.749 total time=   0.0s\n",
      "[CV 6/10] END eval_metric=logloss, learning_rate=0.01, max_depth=3, min_child_weight=0.05, n_jobs=-1, objective=binary:logistic, reg_lambda=10, scale_pos_weight=1.3021900884458795, subsample=0.5;, score=0.747 total time=   0.0s\n",
      "[CV 7/10] END eval_metric=logloss, learning_rate=0.01, max_depth=3, min_child_weight=0.05, n_jobs=-1, objective=binary:logistic, reg_lambda=10, scale_pos_weight=1.3021900884458795, subsample=0.5;, score=0.754 total time=   0.0s\n",
      "[CV 8/10] END eval_metric=logloss, learning_rate=0.01, max_depth=3, min_child_weight=0.05, n_jobs=-1, objective=binary:logistic, reg_lambda=10, scale_pos_weight=1.3021900884458795, subsample=0.5;, score=0.772 total time=   0.0s\n",
      "[CV 9/10] END eval_metric=logloss, learning_rate=0.01, max_depth=3, min_child_weight=0.05, n_jobs=-1, objective=binary:logistic, reg_lambda=10, scale_pos_weight=1.3021900884458795, subsample=0.5;, score=0.725 total time=   0.0s\n",
      "[CV 10/10] END eval_metric=logloss, learning_rate=0.01, max_depth=3, min_child_weight=0.05, n_jobs=-1, objective=binary:logistic, reg_lambda=10, scale_pos_weight=1.3021900884458795, subsample=0.5;, score=0.770 total time=   0.0s\n",
      "[CV 1/10] END eval_metric=logloss, learning_rate=0.01, max_depth=3, min_child_weight=0.05, n_jobs=-1, objective=binary:logistic, reg_lambda=10, scale_pos_weight=1, subsample=0.5;, score=0.729 total time=   0.0s\n",
      "[CV 2/10] END eval_metric=logloss, learning_rate=0.01, max_depth=3, min_child_weight=0.05, n_jobs=-1, objective=binary:logistic, reg_lambda=10, scale_pos_weight=1, subsample=0.5;, score=0.751 total time=   0.0s\n",
      "[CV 3/10] END eval_metric=logloss, learning_rate=0.01, max_depth=3, min_child_weight=0.05, n_jobs=-1, objective=binary:logistic, reg_lambda=10, scale_pos_weight=1, subsample=0.5;, score=0.738 total time=   0.0s\n",
      "[CV 4/10] END eval_metric=logloss, learning_rate=0.01, max_depth=3, min_child_weight=0.05, n_jobs=-1, objective=binary:logistic, reg_lambda=10, scale_pos_weight=1, subsample=0.5;, score=0.724 total time=   0.0s\n",
      "[CV 5/10] END eval_metric=logloss, learning_rate=0.01, max_depth=3, min_child_weight=0.05, n_jobs=-1, objective=binary:logistic, reg_lambda=10, scale_pos_weight=1, subsample=0.5;, score=0.729 total time=   0.0s\n",
      "[CV 6/10] END eval_metric=logloss, learning_rate=0.01, max_depth=3, min_child_weight=0.05, n_jobs=-1, objective=binary:logistic, reg_lambda=10, scale_pos_weight=1, subsample=0.5;, score=0.740 total time=   0.0s\n",
      "[CV 7/10] END eval_metric=logloss, learning_rate=0.01, max_depth=3, min_child_weight=0.05, n_jobs=-1, objective=binary:logistic, reg_lambda=10, scale_pos_weight=1, subsample=0.5;, score=0.742 total time=   0.0s\n",
      "[CV 8/10] END eval_metric=logloss, learning_rate=0.01, max_depth=3, min_child_weight=0.05, n_jobs=-1, objective=binary:logistic, reg_lambda=10, scale_pos_weight=1, subsample=0.5;, score=0.759 total time=   0.0s\n",
      "[CV 9/10] END eval_metric=logloss, learning_rate=0.01, max_depth=3, min_child_weight=0.05, n_jobs=-1, objective=binary:logistic, reg_lambda=10, scale_pos_weight=1, subsample=0.5;, score=0.724 total time=   0.0s\n",
      "[CV 10/10] END eval_metric=logloss, learning_rate=0.01, max_depth=3, min_child_weight=0.05, n_jobs=-1, objective=binary:logistic, reg_lambda=10, scale_pos_weight=1, subsample=0.5;, score=0.760 total time=   0.0s\n",
      "Modelo: XGBClassifier(base_score=None, booster=None, callbacks=None,\n",
      "              colsample_bylevel=None, colsample_bynode=None,\n",
      "              colsample_bytree=None, device=None, early_stopping_rounds=None,\n",
      "              enable_categorical=False, eval_metric='logloss',\n",
      "              feature_types=None, gamma=None, grow_policy=None,\n",
      "              importance_type=None, interaction_constraints=None,\n",
      "              learning_rate=0.01, max_bin=None, max_cat_threshold=None,\n",
      "              max_cat_to_onehot=None, max_delta_step=None, max_depth=3,\n",
      "              max_leaves=None, min_child_weight=0.05, missing=nan,\n",
      "              monotone_constraints=None, multi_strategy=None, n_estimators=None,\n",
      "              n_jobs=-1, num_parallel_tree=None, random_state=None, ...)\n",
      "{'objective': 'binary:logistic', 'base_score': None, 'booster': None, 'callbacks': None, 'colsample_bylevel': None, 'colsample_bynode': None, 'colsample_bytree': None, 'device': None, 'early_stopping_rounds': None, 'enable_categorical': False, 'eval_metric': 'logloss', 'feature_types': None, 'gamma': None, 'grow_policy': None, 'importance_type': None, 'interaction_constraints': None, 'learning_rate': 0.01, 'max_bin': None, 'max_cat_threshold': None, 'max_cat_to_onehot': None, 'max_delta_step': None, 'max_depth': 3, 'max_leaves': None, 'min_child_weight': 0.05, 'missing': nan, 'monotone_constraints': None, 'multi_strategy': None, 'n_estimators': None, 'n_jobs': -1, 'num_parallel_tree': None, 'random_state': None, 'reg_alpha': None, 'reg_lambda': 10, 'sampling_method': None, 'scale_pos_weight': 1.3021900884458795, 'subsample': 0.5, 'tree_method': None, 'validate_parameters': None, 'verbosity': None}\n",
      "--------------------------------------------------------------------------------\n",
      "\n",
      "Hiperparámetros calculados.\n"
     ]
    }
   ],
   "source": [
    "SCORER = make_scorer(f1_score)\n",
    "\n",
    "print('Cálculo de hiperparámetros')\n",
    "print('-' * 80)\n",
    "for nombre, evaluacion in dict_evaluaciones.items():\n",
    "    print(f'\\n{nombre}')\n",
    "    if evaluacion.isTrained:\n",
    "        print('Ya entrenado.')\n",
    "    elif evaluacion.best_params == {}: # Recalcular solo si es nuevo\n",
    "        searchCV = GridSearchCV(\n",
    "            evaluacion.modelo, evaluacion.param_grid,\n",
    "            cv=10, \n",
    "            scoring=SCORER,\n",
    "            verbose=5,\n",
    "            #n_jobs=-1, \n",
    "        )\n",
    "        searchCV.fit(x_train, y_train)\n",
    "        evaluacion.modelo = searchCV.best_estimator_\n",
    "        evaluacion.best_params = searchCV.best_params_\n",
    "    else:\n",
    "        print('Entrenando modelo con hiperparámetros previamente asignados...')\n",
    "        evaluacion.modelo.set_params(**evaluacion.best_params)\n",
    "        evaluacion.modelo.fit(x_train, y_train)\n",
    "\n",
    "    evaluacion.isTrained = True\n",
    "    print(f'Modelo:', evaluacion.modelo)\n",
    "    print(evaluacion.modelo.get_params())\n",
    "    print('-' * 80)\n",
    "\n",
    "print(f'\\nHiperparámetros calculados.')"
   ]
  },
  {
   "cell_type": "markdown",
   "metadata": {
    "id": "si3fdxiYqwKE"
   },
   "source": [
    "# Validación cruzada (*cross-validation*)\n",
    "\n",
    "![cross_val_method.png](data:image/png;base64,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)"
   ]
  },
  {
   "cell_type": "markdown",
   "metadata": {
    "id": "Yqtjtixx_42P"
   },
   "source": [
    "## Evaluación de rendimiento de cada modelo."
   ]
  },
  {
   "cell_type": "code",
   "execution_count": 15,
   "metadata": {
    "colab": {
     "base_uri": "https://localhost:8080/"
    },
    "executionInfo": {
     "elapsed": 1656718,
     "status": "ok",
     "timestamp": 1692762732053,
     "user": {
      "displayName": "Juan de Villeros",
      "userId": "10297202580344304481"
     },
     "user_tz": 300
    },
    "id": "1fjZiq9fz3Zl",
    "outputId": "dfc3cbdc-4bb3-4d75-a88a-f12ceddf795a"
   },
   "outputs": [
    {
     "name": "stdout",
     "output_type": "stream",
     "text": [
      "Rendimiento de cada modelo\n",
      "----------------------------------------------------------------------------------------------------\n",
      "LGR\n",
      "LogisticRegression(C=2, class_weight={False: 0.6978099115541204, True: 1},\n",
      "                   n_jobs=-1, solver='newton-cholesky')\n",
      "Calculando...\n"
     ]
    },
    {
     "name": "stderr",
     "output_type": "stream",
     "text": [
      "[Parallel(n_jobs=4)]: Using backend LokyBackend with 4 concurrent workers.\n",
      "[Parallel(n_jobs=4)]: Done   7 out of  10 | elapsed:    1.4s remaining:    0.5s\n",
      "[Parallel(n_jobs=4)]: Done  10 out of  10 | elapsed:    1.4s finished\n",
      "[Parallel(n_jobs=4)]: Using backend LokyBackend with 4 concurrent workers.\n"
     ]
    },
    {
     "name": "stdout",
     "output_type": "stream",
     "text": [
      "\n",
      "fit_time          0.023949\n",
      "score_time        0.008729\n",
      "test_accuracy     0.746068\n",
      "test_f1           0.739224\n",
      "test_precision    0.683334\n",
      "test_recall       0.805512\n",
      "test_roc_auc      0.811368\n",
      "dtype: float64\n",
      "----------------------------------------------------------------------------------------------------\n",
      "HGBC\n",
      "HistGradientBoostingClassifier(class_weight={False: 0.6978099115541204,\n",
      "                                             True: 1},\n",
      "                               early_stopping=False, l2_regularization=1,\n",
      "                               learning_rate=0.015, max_leaf_nodes=63,\n",
      "                               min_samples_leaf=5)\n",
      "Calculando...\n"
     ]
    },
    {
     "name": "stderr",
     "output_type": "stream",
     "text": [
      "[Parallel(n_jobs=4)]: Done   7 out of  10 | elapsed:    1.8s remaining:    0.7s\n",
      "[Parallel(n_jobs=4)]: Done  10 out of  10 | elapsed:    2.4s finished\n",
      "[Parallel(n_jobs=4)]: Using backend LokyBackend with 4 concurrent workers.\n"
     ]
    },
    {
     "name": "stdout",
     "output_type": "stream",
     "text": [
      "\n",
      "fit_time          0.823222\n",
      "score_time        0.020478\n",
      "test_accuracy     0.753077\n",
      "test_f1           0.746519\n",
      "test_precision    0.690040\n",
      "test_recall       0.813525\n",
      "test_roc_auc      0.822578\n",
      "dtype: float64\n",
      "----------------------------------------------------------------------------------------------------\n",
      "MLPdefault\n",
      "MLPClassifier()\n",
      "Calculando...\n"
     ]
    },
    {
     "name": "stderr",
     "output_type": "stream",
     "text": [
      "[Parallel(n_jobs=4)]: Done   7 out of  10 | elapsed:    5.1s remaining:    2.1s\n",
      "[Parallel(n_jobs=4)]: Done  10 out of  10 | elapsed:    7.3s finished\n",
      "[Parallel(n_jobs=4)]: Using backend LokyBackend with 4 concurrent workers.\n"
     ]
    },
    {
     "name": "stdout",
     "output_type": "stream",
     "text": [
      "\n",
      "fit_time          2.504826\n",
      "score_time        0.008425\n",
      "test_accuracy     0.749024\n",
      "test_f1           0.722884\n",
      "test_precision    0.714143\n",
      "test_recall       0.732312\n",
      "test_roc_auc      0.809994\n",
      "dtype: float64\n",
      "----------------------------------------------------------------------------------------------------\n",
      "MLP01\n",
      "MLPClassifier(activation='logistic', hidden_layer_sizes=40, max_iter=5000)\n",
      "Calculando...\n"
     ]
    },
    {
     "name": "stderr",
     "output_type": "stream",
     "text": [
      "[Parallel(n_jobs=4)]: Done   7 out of  10 | elapsed:   27.6s remaining:   11.8s\n",
      "[Parallel(n_jobs=4)]: Done  10 out of  10 | elapsed:   50.1s finished\n",
      "[Parallel(n_jobs=4)]: Using backend LokyBackend with 4 concurrent workers.\n"
     ]
    },
    {
     "name": "stdout",
     "output_type": "stream",
     "text": [
      "\n",
      "fit_time          15.060954\n",
      "score_time         0.009453\n",
      "test_accuracy      0.744661\n",
      "test_f1            0.715816\n",
      "test_precision     0.712147\n",
      "test_recall        0.720096\n",
      "test_roc_auc       0.811020\n",
      "dtype: float64\n",
      "----------------------------------------------------------------------------------------------------\n",
      "MLP02\n",
      "MLPClassifier(activation='tanh', hidden_layer_sizes=40, max_iter=5000,\n",
      "              solver='sgd')\n",
      "Calculando...\n"
     ]
    },
    {
     "name": "stderr",
     "output_type": "stream",
     "text": [
      "[Parallel(n_jobs=4)]: Done   7 out of  10 | elapsed:    1.2s remaining:    0.4s\n",
      "[Parallel(n_jobs=4)]: Done  10 out of  10 | elapsed:    1.8s finished\n",
      "[Parallel(n_jobs=4)]: Using backend LokyBackend with 4 concurrent workers.\n"
     ]
    },
    {
     "name": "stdout",
     "output_type": "stream",
     "text": [
      "\n",
      "fit_time          0.608319\n",
      "score_time        0.008548\n",
      "test_accuracy     0.752920\n",
      "test_f1           0.728949\n",
      "test_precision    0.715111\n",
      "test_recall       0.743814\n",
      "test_roc_auc      0.812851\n",
      "dtype: float64\n",
      "----------------------------------------------------------------------------------------------------\n",
      "XGB01\n",
      "XGBClassifier(base_score=None, booster=None, callbacks=None,\n",
      "              colsample_bylevel=None, colsample_bynode=None,\n",
      "              colsample_bytree=None, device=None, early_stopping_rounds=None,\n",
      "              enable_categorical=False, eval_metric='logloss',\n",
      "              feature_types=None, gamma=None, grow_policy=None,\n",
      "              importance_type=None, interaction_constraints=None,\n",
      "              learning_rate=0.01, max_bin=None, max_cat_threshold=None,\n",
      "              max_cat_to_onehot=None, max_delta_step=None, max_depth=3,\n",
      "              max_leaves=None, min_child_weight=0.05, missing=nan,\n",
      "              monotone_constraints=None, multi_strategy=None, n_estimators=None,\n",
      "              n_jobs=-1, num_parallel_tree=None, random_state=None, ...)\n",
      "Calculando...\n",
      "\n",
      "fit_time          0.201818\n",
      "score_time        0.023156\n",
      "test_accuracy     0.752923\n",
      "test_f1           0.745483\n",
      "test_precision    0.691045\n",
      "test_recall       0.809689\n",
      "test_roc_auc      0.820250\n",
      "dtype: float64\n",
      "----------------------------------------------------------------------------------------------------\n",
      "\n",
      "\n",
      "** Cross-validation terminado **\n"
     ]
    },
    {
     "name": "stderr",
     "output_type": "stream",
     "text": [
      "[Parallel(n_jobs=4)]: Done   7 out of  10 | elapsed:    0.5s remaining:    0.2s\n",
      "[Parallel(n_jobs=4)]: Done  10 out of  10 | elapsed:    0.6s finished\n"
     ]
    }
   ],
   "source": [
    "print('Rendimiento de cada modelo')\n",
    "forzar_calculo = False\n",
    "for nombre, evaluacion in dict_evaluaciones.items():\n",
    "    print(f'{\"-\" * 100}')\n",
    "    print(nombre)\n",
    "    print(evaluacion.modelo)\n",
    "    if forzar_calculo | (not evaluacion.scoresCV):\n",
    "        print('Calculando...')\n",
    "        evaluacion.scoresCV = cross_validate(\n",
    "            estimator=evaluacion.modelo,\n",
    "            X=x_test, y=y_test, \n",
    "            cv=10, \n",
    "            scoring=['accuracy', 'f1', 'precision', 'recall', 'roc_auc'],\n",
    "            verbose=3,\n",
    "            n_jobs=4,\n",
    "        )\n",
    "        print()\n",
    "\n",
    "    df_scoresCV = pd.DataFrame(evaluacion.scoresCV)\n",
    "    print(df_scoresCV.mean())\n",
    "\n",
    "print('-' * 100)\n",
    "print(f'\\n\\n** Cross-validation terminado **')"
   ]
  },
  {
   "cell_type": "markdown",
   "metadata": {
    "id": "NousS9iWby1L"
   },
   "source": [
    "# Visualizar métricas de modelos"
   ]
  },
  {
   "cell_type": "code",
   "execution_count": 16,
   "metadata": {},
   "outputs": [],
   "source": [
    "# Generar tabla de métricas\n",
    "\n",
    "data = {}\n",
    "model_names = []\n",
    "for nombre, evaluacion in dict_evaluaciones.items():\n",
    "    scores = evaluacion.scoresCV\n",
    "    model_names.append(nombre)\n",
    "    data[nombre] = [\n",
    "        scores['test_accuracy'].mean(),\n",
    "        scores['test_f1'].mean(),\n",
    "        scores['test_precision'].mean(),\n",
    "        scores['test_recall'].mean(),\n",
    "        scores['test_roc_auc'].mean(),        \n",
    "    ]\n",
    "\n",
    "df = pd.DataFrame(\n",
    "    data,\n",
    "    index=[\n",
    "        'test_accuracy',\n",
    "        'test_f1',\n",
    "        'test_precision',\n",
    "        'test_recall',\n",
    "        'test_roc_auc',\n",
    "    ]\n",
    ")\n",
    "\n",
    "df_normalized = pd.DataFrame(df.T, columns=df.index)"
   ]
  },
  {
   "cell_type": "code",
   "execution_count": 17,
   "metadata": {},
   "outputs": [
    {
     "name": "stdout",
     "output_type": "stream",
     "text": [
      "Resultados de optimización por make_scorer(f1_score, response_method='predict')\n",
      "--------------------------------------------------------------------------------\n",
      "       MODELO  ACCURACY        F1  PRECISION    RECALL   ROC_AUC\n",
      "0         LGR  0.746068  0.739224   0.683334  0.805512  0.811368\n",
      "1        HGBC  0.753077  0.746519   0.690040  0.813525  0.822578\n",
      "2  MLPdefault  0.749024  0.722884   0.714143  0.732312  0.809994\n",
      "3       MLP01  0.744661  0.715816   0.712147  0.720096  0.811020\n",
      "4       MLP02  0.752920  0.728949   0.715111  0.743814  0.812851\n",
      "5       XGB01  0.752923  0.745483   0.691045  0.809689  0.820250\n"
     ]
    }
   ],
   "source": [
    "# Visualizar tabla\n",
    "\n",
    "df_tabla_metricas = df_normalized.reset_index()\n",
    "df_tabla_metricas.rename(\n",
    "    columns={\n",
    "        'index'          : 'MODELO',\n",
    "        'test_accuracy'  : 'ACCURACY',\n",
    "        'test_f1'        : 'F1',\n",
    "        'test_precision' : 'PRECISION',\n",
    "        'test_recall'    : 'RECALL',\n",
    "        'test_roc_auc'   : 'ROC_AUC',\n",
    "    },\n",
    "    inplace=True,\n",
    ")\n",
    "\n",
    "#print(df_tabla_metricas[df_tabla_metricas['MODELO'] == 'RFC'])\n",
    "print(f'Resultados de optimización por {SCORER}')\n",
    "print('-' * 80)\n",
    "print(df_tabla_metricas)"
   ]
  },
  {
   "cell_type": "code",
   "execution_count": 18,
   "metadata": {
    "colab": {
     "base_uri": "https://localhost:8080/",
     "height": 549
    },
    "executionInfo": {
     "elapsed": 1057,
     "status": "ok",
     "timestamp": 1692764887841,
     "user": {
      "displayName": "Juan de Villeros",
      "userId": "10297202580344304481"
     },
     "user_tz": 300
    },
    "id": "h87LCVkWWVM0",
    "outputId": "70dfe32e-b1f9-4ea0-f5fb-c77921018c05"
   },
   "outputs": [
    {
     "data": {
      "image/png": "[encoded data removed]",
      "text/plain": [
       "<Figure size 1300x400 with 1 Axes>"
      ]
     },
     "metadata": {},
     "output_type": "display_data"
    }
   ],
   "source": [
    "# Visualizar gráfico de barras comparativo\n",
    "\n",
    "ax = df_normalized.plot(kind='bar', figsize=(13, 4))\n",
    "ax.set_xticklabels(model_names, rotation=0, ha=\"center\")\n",
    "\n",
    "legend = ax.legend(title='Métricas', bbox_to_anchor=(1.05, 1), loc='upper left')\n",
    "plt.tight_layout()\n",
    "plt.subplots_adjust(right=0.75)\n",
    "\n",
    "averages = df_normalized.mean(axis=1)\n",
    "\n",
    "for i, avg in enumerate(averages):\n",
    "    plt.scatter(i, avg, marker='D', color='red', s=50)\n",
    "\n",
    "# Primedio\n",
    "plt.plot(averages.index, averages.values, marker='o', linestyle='-', color='red')\n",
    "for i in range(1, len(model_names)):\n",
    "    plt.axvline(x=i-0.5, color='gray', linestyle='-')\n",
    "\n",
    "plt.yticks(np.arange(0, 1, 0.05))\n",
    "plt.title('Comparación de métricas por modelo')\n",
    "plt.xlabel('Modelos')\n",
    "plt.ylabel('Valor Normalizado')\n",
    "plt.grid()\n",
    "plt.show()\n"
   ]
  },
  {
   "cell_type": "code",
   "execution_count": 19,
   "metadata": {
    "colab": {
     "base_uri": "https://localhost:8080/",
     "height": 487
    },
    "executionInfo": {
     "elapsed": 818,
     "status": "ok",
     "timestamp": 1692764903484,
     "user": {
      "displayName": "Juan de Villeros",
      "userId": "10297202580344304481"
     },
     "user_tz": 300
    },
    "id": "5JcCnZZZq2Qw",
    "outputId": "b953cfcf-0641-4e40-9508-805466006e8c"
   },
   "outputs": [
    {
     "data": {
      "image/png": "[encoded data removed]",
      "text/plain": [
       "<Figure size 640x480 with 1 Axes>"
      ]
     },
     "metadata": {},
     "output_type": "display_data"
    }
   ],
   "source": [
    "# Visualizar tiempos de ajuste\n",
    "\n",
    "tiempos = [evaluacion.scoresCV['fit_time'].mean() for evaluacion in dict_evaluaciones.values()]\n",
    "nombres = dict_evaluaciones.keys()\n",
    "\n",
    "plt.bar(range(len(nombres)), tiempos)\n",
    "plt.xticks(range(len(nombres)), nombres)\n",
    "plt.xlabel('Modelos')\n",
    "plt.ylabel('Segundos')\n",
    "plt.title('Tiempo promedio de ajuste de los modelos')\n",
    "plt.tight_layout()\n",
    "plt.show()"
   ]
  },
  {
   "cell_type": "markdown",
   "metadata": {},
   "source": [
    "# Hiperparámetros finales"
   ]
  },
  {
   "cell_type": "code",
   "execution_count": 20,
   "metadata": {
    "colab": {
     "base_uri": "https://localhost:8080/"
    },
    "executionInfo": {
     "elapsed": 338,
     "status": "ok",
     "timestamp": 1692764914555,
     "user": {
      "displayName": "Juan de Villeros",
      "userId": "10297202580344304481"
     },
     "user_tz": 300
    },
    "id": "WXlPVeUPbYHr",
    "outputId": "e49c0869-3119-4c4e-d7b3-7dd51acacb50"
   },
   "outputs": [
    {
     "name": "stdout",
     "output_type": "stream",
     "text": [
      "# --------------------------------------------------------------------------------\n",
      "# Resultados de optimización por make_scorer(f1_score, response_method='predict')\n",
      "# Factor de ajuste de pesos: 0.3021900884458796\n",
      "#     MODELO  ACCURACY       F1  PRECISION   RECALL  ROC_AUC\n",
      "#        LGR  0.746068 0.739224   0.683334 0.805512 0.811368\n",
      "#       HGBC  0.753077 0.746519   0.690040 0.813525 0.822578\n",
      "# MLPdefault  0.749024 0.722884   0.714143 0.732312 0.809994\n",
      "#      MLP01  0.744661 0.715816   0.712147 0.720096 0.811020\n",
      "#      MLP02  0.752920 0.728949   0.715111 0.743814 0.812851\n",
      "#      XGB01  0.752923 0.745483   0.691045 0.809689 0.820250\n",
      "# --------------------------------------------------------------------------------\n",
      "# LogisticRegression(C=2, class_weight={False: 0.6978099115541204, True: 1}, n_jobs=-1, solver='newton-cholesky')\n",
      "# HistGradientBoostingClassifier(class_weight={False: 0.6978099115541204, True: 1}, early_stopping=False, l2_regularization=1, learning_rate=0.015, max_leaf_nodes=63, min_samples_leaf=5)\n",
      "# MLPClassifier()\n",
      "# MLPClassifier(activation='logistic', hidden_layer_sizes=40, max_iter=5000)\n",
      "# MLPClassifier(activation='tanh', hidden_layer_sizes=40, max_iter=5000, solver='sgd')\n",
      "# XGBClassifier(base_score=None, booster=None, callbacks=None, colsample_bylevel=None, colsample_bynode=None, colsample_bytree=None, device=None, early_stopping_rounds=None, enable_categorical=False, eval_metric='logloss', feature_types=None, gamma=None, grow_policy=None, importance_type=None, interaction_constraints=None, learning_rate=0.01, max_bin=None, max_cat_threshold=None, max_cat_to_onehot=None, max_delta_step=None, max_depth=3, max_leaves=None, min_child_weight=0.05, missing=nan, monotone_constraints=None, multi_strategy=None, n_estimators=None, n_jobs=-1, num_parallel_tree=None, random_state=None, ...)\n",
      "# --------------------------------------------------------------------------------\n",
      "# dict_evaluaciones[\"LGR\"].best_params = {'C': 2, 'class_weight': {False: 0.6978099115541204, True: 1}, 'n_jobs': -1, 'solver': 'newton-cholesky'}\n",
      "# dict_evaluaciones[\"HGBC\"].best_params = {'class_weight': {False: 0.6978099115541204, True: 1}, 'early_stopping': False, 'l2_regularization': 1, 'learning_rate': 0.015, 'max_bins': 255, 'max_depth': None, 'max_iter': 100, 'max_leaf_nodes': 63, 'min_samples_leaf': 5, 'n_iter_no_change': 10, 'scoring': 'loss'}\n",
      "# dict_evaluaciones[\"MLPdefault\"].best_params = {}\n",
      "# dict_evaluaciones[\"MLP01\"].best_params = {'activation': 'logistic', 'hidden_layer_sizes': 40, 'max_iter': 5000}\n",
      "# dict_evaluaciones[\"MLP02\"].best_params = {'activation': 'tanh', 'alpha': 0.0001, 'hidden_layer_sizes': 40, 'learning_rate': 'constant', 'learning_rate_init': 0.001, 'max_iter': 5000, 'solver': 'sgd'}\n",
      "# dict_evaluaciones[\"XGB01\"].best_params = {'eval_metric': 'logloss', 'learning_rate': 0.01, 'max_depth': 3, 'min_child_weight': 0.05, 'n_jobs': -1, 'objective': 'binary:logistic', 'reg_lambda': 10, 'scale_pos_weight': 1.3021900884458795, 'subsample': 0.5}\n"
     ]
    }
   ],
   "source": [
    "print('#', '-' * 80)\n",
    "print(f'# Resultados de optimización por {SCORER}')\n",
    "print(f'# Factor de ajuste de pesos: {ajuste_prob}')\n",
    "for linea in df_tabla_metricas.to_string(index=False).split('\\n'):\n",
    "    print(f'# {linea}')\n",
    "    \n",
    "print('#', '-' * 80)\n",
    "\n",
    "for nombre, evaluacion in dict_evaluaciones.items():\n",
    "    modelo_str = ' '.join([linea.strip() for linea in repr(evaluacion.modelo).split('\\n')])\n",
    "    print(f'# {modelo_str}')\n",
    "    #print(f'# Full parameters = {evaluacion.modelo.get_params()}')\n",
    "\n",
    "print('#', '-' * 80)\n",
    "\n",
    "for nombre, evaluacion in dict_evaluaciones.items():\n",
    "    print(f'# dict_evaluaciones[\"{nombre}\"].best_params = {evaluacion.best_params}')\n",
    "    #print('\\n#', '-' * 80)\n"
   ]
  }
 ],
 "metadata": {
  "colab": {
   "authorship_tag": "ABX9TyP/r70Ih2LzeuxwcEll86zR",
   "provenance": []
  },
  "kernelspec": {
   "display_name": ".venv",
   "language": "python",
   "name": "python3"
  },
  "language_info": {
   "codemirror_mode": {
    "name": "ipython",
    "version": 3
   },
   "file_extension": ".py",
   "mimetype": "text/x-python",
   "name": "python",
   "nbconvert_exporter": "python",
   "pygments_lexer": "ipython3",
   "version": "3.12.7"
  }
 },
 "nbformat": 4,
 "nbformat_minor": 4
}
