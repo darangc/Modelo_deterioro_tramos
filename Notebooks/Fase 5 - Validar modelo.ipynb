{
 "cells": [
  {
   "cell_type": "markdown",
   "metadata": {
    "id": "13GWDvDAeZrD"
   },
   "source": [
    "# Validación de modelo"
   ]
  },
  {
   "cell_type": "code",
   "execution_count": 1,
   "metadata": {
    "executionInfo": {
     "elapsed": 580,
     "status": "ok",
     "timestamp": 1692841301880,
     "user": {
      "displayName": "Juan de Villeros",
      "userId": "10297202580344304481"
     },
     "user_tz": 300
    },
    "id": "7zI_Fz_x7Tro"
   },
   "outputs": [],
   "source": [
    "import pandas as pd\n",
    "import joblib\n",
    "from sklearn.metrics import classification_report, confusion_matrix\n",
    "\n",
    "import matplotlib.pyplot as plt\n",
    "import seaborn as sns\n"
   ]
  },
  {
   "cell_type": "code",
   "execution_count": 2,
   "metadata": {
    "executionInfo": {
     "elapsed": 1605,
     "status": "ok",
     "timestamp": 1692837999166,
     "user": {
      "displayName": "Juan de Villeros",
      "userId": "10297202580344304481"
     },
     "user_tz": 300
    },
    "id": "DTtJLl4R9C8C"
   },
   "outputs": [
    {
     "name": "stdout",
     "output_type": "stream",
     "text": [
      "Fecha y Hora de ejecución de módulo: 2024-10-14 20:36:23\n"
     ]
    }
   ],
   "source": [
    "# Definiciones globales y funciones de transformación\n",
    "\n",
    "%run ../Lib/pandas_options.py\n",
    "%run ../Lib/define_constantes.py\n",
    "%run ../Lib/fn_transformaciones.py"
   ]
  },
  {
   "cell_type": "code",
   "execution_count": 3,
   "metadata": {
    "colab": {
     "base_uri": "https://localhost:8080/"
    },
    "executionInfo": {
     "elapsed": 233,
     "status": "ok",
     "timestamp": 1692844670762,
     "user": {
      "displayName": "Juan de Villeros",
      "userId": "10297202580344304481"
     },
     "user_tz": 300
    },
    "id": "8vf2_zFM4xtp",
    "outputId": "52453986-dc5b-4029-9a7d-91a459907e84"
   },
   "outputs": [
    {
     "name": "stdout",
     "output_type": "stream",
     "text": [
      "<class 'pandas.core.frame.DataFrame'>\n",
      "RangeIndex: 150 entries, 0 to 149\n",
      "Data columns (total 3 columns):\n",
      " #   Column              Non-Null Count  Dtype  \n",
      "---  ------              --------------  -----  \n",
      " 0   IPID                150 non-null    int64  \n",
      " 1   CALIFICACION        150 non-null    float64\n",
      " 2   FECHA_CALIFICACION  150 non-null    object \n",
      "dtypes: float64(1), int64(1), object(1)\n",
      "memory usage: 3.6+ KB\n",
      "None\n"
     ]
    }
   ],
   "source": [
    "#  Cargar archivo para validación\n",
    "\n",
    "archivo_validacion = f'{DIRECTORIO_DATOS}/DATOSCCTV_VALIDACION_2024-07.csv'\n",
    "\n",
    "df_cctv_validacion = pd.read_csv(archivo_validacion, usecols=['IPID', 'CALIFICACION', 'FECHA_CALIFICACION'])\n",
    "\n",
    "print(df_cctv_validacion.info())"
   ]
  },
  {
   "cell_type": "code",
   "execution_count": 4,
   "metadata": {
    "colab": {
     "base_uri": "https://localhost:8080/"
    },
    "executionInfo": {
     "elapsed": 5571,
     "status": "ok",
     "timestamp": 1692839786386,
     "user": {
      "displayName": "Juan de Villeros",
      "userId": "10297202580344304481"
     },
     "user_tz": 300
    },
    "id": "vqljvqxGBrXj",
    "outputId": "8d4811bb-ff32-4c98-fb97-ded3103683be"
   },
   "outputs": [
    {
     "name": "stdout",
     "output_type": "stream",
     "text": [
      "<class 'pandas.core.frame.DataFrame'>\n",
      "RangeIndex: 205754 entries, 0 to 205753\n",
      "Data columns (total 48 columns):\n",
      " #   Column      Non-Null Count   Dtype  \n",
      "---  ------      --------------   -----  \n",
      " 0   DIAMETRO    205754 non-null  int64  \n",
      " 1   CAMARA_CAI  205754 non-null  object \n",
      " 2   CONEXIONES  97049 non-null   object \n",
      " 3   MATERIAL    205377 non-null  object \n",
      " 4   TUBERIA_EL  197356 non-null  object \n",
      " 5   VIDA_UTIL   195982 non-null  float64\n",
      " 6   FABRICANTE  190888 non-null  object \n",
      " 7   TIPO_CIMEN  83807 non-null   object \n",
      " 8   TIPO_SUELO  65523 non-null   object \n",
      " 9   TIPO_RED    205754 non-null  object \n",
      " 10  PROF_BATEA  204504 non-null  float64\n",
      " 11  PROF_BATE1  204369 non-null  float64\n",
      " 12  COTA_BATEA  202933 non-null  float64\n",
      " 13  COTA_BATE1  202919 non-null  float64\n",
      " 14  IPID        205754 non-null  int64  \n",
      " 15  ESTADO      205754 non-null  object \n",
      " 16  GRUPO       205754 non-null  object \n",
      " 17  PROPIETARI  205734 non-null  object \n",
      " 18  OPERADOR    205512 non-null  object \n",
      " 19  EMPRESA     205754 non-null  object \n",
      " 20  COD_MUNICI  205754 non-null  int64  \n",
      " 21  COD_DEPART  205754 non-null  int64  \n",
      " 22  COD_PAIS    205752 non-null  float64\n",
      " 23  LONGITUD    205754 non-null  float64\n",
      " 24  ARRANQUE    205630 non-null  object \n",
      " 25  TIPO_AGUA   205754 non-null  object \n",
      " 26  CUENCA      204712 non-null  object \n",
      " 27  CONDICION_  80128 non-null   object \n",
      " 28  DIAMETRO_I  135311 non-null  float64\n",
      " 29  MATERIAL_R  851 non-null     object \n",
      " 30  NOMBRE_COL  17005 non-null   object \n",
      " 31  PENDIENTE   202584 non-null  float64\n",
      " 32  PROFUNDIDA  118411 non-null  float64\n",
      " 33  CAUDAL_TUB  169451 non-null  float64\n",
      " 34  CAUDAL_DIS  179317 non-null  float64\n",
      " 35  COEFICIENT  190038 non-null  float64\n",
      " 36  OBSERVACIO  106517 non-null  object \n",
      " 37  UBICACION   9407 non-null    object \n",
      " 38  FECHA_INST  190115 non-null  object \n",
      " 39  COOR_LAT    205532 non-null  float64\n",
      " 40  COOR_LON    205532 non-null  float64\n",
      " 41  ESTADO_OPE  205754 non-null  object \n",
      " 42  PAIS        205754 non-null  object \n",
      " 43  DEPARTAMEN  205754 non-null  object \n",
      " 44  MUNICIPIO   205754 non-null  object \n",
      " 45  CODIGO_ARE  203569 non-null  object \n",
      " 46  ZONA        203569 non-null  object \n",
      " 47  CUENCA_HID  204637 non-null  object \n",
      "dtypes: float64(15), int64(4), object(29)\n",
      "memory usage: 75.3+ MB\n",
      "None\n"
     ]
    }
   ],
   "source": [
    "# Cargar archivo de tramos\n",
    "\n",
    "archivo_tramos = f'{DIRECTORIO_DATOS}/DATOSTRAMOS_2023-08-06.csv'\n",
    "df_tramos = pd.read_csv(archivo_tramos, low_memory=False)\n",
    "\n",
    "print(df_tramos.info())"
   ]
  },
  {
   "cell_type": "code",
   "execution_count": 5,
   "metadata": {
    "colab": {
     "base_uri": "https://localhost:8080/"
    },
    "executionInfo": {
     "elapsed": 230,
     "status": "ok",
     "timestamp": 1692844678462,
     "user": {
      "displayName": "Juan de Villeros",
      "userId": "10297202580344304481"
     },
     "user_tz": 300
    },
    "id": "lbF5lJ2nH_vO",
    "outputId": "ba98b207-51d6-4e90-ac61-e00bb55c7fe2"
   },
   "outputs": [
    {
     "name": "stdout",
     "output_type": "stream",
     "text": [
      "<class 'pandas.core.frame.DataFrame'>\n",
      "RangeIndex: 148 entries, 0 to 147\n",
      "Data columns (total 50 columns):\n",
      " #   Column              Non-Null Count  Dtype  \n",
      "---  ------              --------------  -----  \n",
      " 0   DIAMETRO            148 non-null    int64  \n",
      " 1   CAMARA_CAI          148 non-null    object \n",
      " 2   CONEXIONES          87 non-null     object \n",
      " 3   MATERIAL            148 non-null    object \n",
      " 4   TUBERIA_EL          145 non-null    object \n",
      " 5   VIDA_UTIL           144 non-null    float64\n",
      " 6   FABRICANTE          148 non-null    object \n",
      " 7   TIPO_CIMEN          65 non-null     object \n",
      " 8   TIPO_SUELO          62 non-null     object \n",
      " 9   TIPO_RED            148 non-null    object \n",
      " 10  PROF_BATEA          148 non-null    float64\n",
      " 11  PROF_BATE1          148 non-null    float64\n",
      " 12  COTA_BATEA          145 non-null    float64\n",
      " 13  COTA_BATE1          146 non-null    float64\n",
      " 14  IPID                148 non-null    int64  \n",
      " 15  ESTADO              148 non-null    object \n",
      " 16  GRUPO               148 non-null    object \n",
      " 17  PROPIETARI          148 non-null    object \n",
      " 18  OPERADOR            148 non-null    object \n",
      " 19  EMPRESA             148 non-null    object \n",
      " 20  COD_MUNICI          148 non-null    int64  \n",
      " 21  COD_DEPART          148 non-null    int64  \n",
      " 22  COD_PAIS            148 non-null    float64\n",
      " 23  LONGITUD            148 non-null    float64\n",
      " 24  ARRANQUE            148 non-null    object \n",
      " 25  TIPO_AGUA           148 non-null    object \n",
      " 26  CUENCA              148 non-null    object \n",
      " 27  CONDICION_          79 non-null     object \n",
      " 28  DIAMETRO_I          117 non-null    float64\n",
      " 29  MATERIAL_R          0 non-null      object \n",
      " 30  NOMBRE_COL          9 non-null      object \n",
      " 31  PENDIENTE           147 non-null    float64\n",
      " 32  PROFUNDIDA          112 non-null    float64\n",
      " 33  CAUDAL_TUB          102 non-null    float64\n",
      " 34  CAUDAL_DIS          126 non-null    float64\n",
      " 35  COEFICIENT          124 non-null    float64\n",
      " 36  OBSERVACIO          84 non-null     object \n",
      " 37  UBICACION           11 non-null     object \n",
      " 38  FECHA_INST          148 non-null    object \n",
      " 39  COOR_LAT            148 non-null    float64\n",
      " 40  COOR_LON            148 non-null    float64\n",
      " 41  ESTADO_OPE          148 non-null    object \n",
      " 42  PAIS                148 non-null    object \n",
      " 43  DEPARTAMEN          148 non-null    object \n",
      " 44  MUNICIPIO           148 non-null    object \n",
      " 45  CODIGO_ARE          146 non-null    object \n",
      " 46  ZONA                146 non-null    object \n",
      " 47  CUENCA_HID          148 non-null    object \n",
      " 48  CALIFICACION        148 non-null    float64\n",
      " 49  FECHA_CALIFICACION  148 non-null    object \n",
      "dtypes: float64(16), int64(4), object(30)\n",
      "memory usage: 57.9+ KB\n",
      "None\n"
     ]
    }
   ],
   "source": [
    "# Consolidar tramos de validacion\n",
    "\n",
    "df_tramos_validacion = df_tramos.merge(df_cctv_validacion, on='IPID')\n",
    "print(df_tramos_validacion.info())"
   ]
  },
  {
   "cell_type": "code",
   "execution_count": 6,
   "metadata": {
    "colab": {
     "base_uri": "https://localhost:8080/"
    },
    "executionInfo": {
     "elapsed": 229,
     "status": "ok",
     "timestamp": 1692844685294,
     "user": {
      "displayName": "Juan de Villeros",
      "userId": "10297202580344304481"
     },
     "user_tz": 300
    },
    "id": "WPUMc7gFJN9L",
    "outputId": "ad5c05cf-4fbb-48be-f31e-69fd81838655"
   },
   "outputs": [
    {
     "name": "stdout",
     "output_type": "stream",
     "text": [
      "Aplicando transformación: Depurar datos nulos         ... Terminada.\n",
      "Aplicando transformación: Convertir tipo de datos     ... Terminada.\n",
      "Aplicando transformación: Validar rango de datos      ... Terminada.\n",
      "Aplicando transformación: Unificar unidades a metros  ... Terminada.\n",
      "Aplicando transformación: Reasignar arranque          ... Terminada.\n",
      "Aplicando transformación: Reasignar tipo de agua      ... Terminada.\n",
      "Aplicando transformación: Reasignar materiales        ... Terminada.\n",
      "Aplicando transformación: Reasignar fabricantes       ... Terminada.\n",
      "Aplicando transformación: Reasignar zonas             ... Terminada.\n",
      "Aplicando transformación: Reasignar municipios        ... Terminada.\n",
      "Aplicando transformación: Reasignar estados           ... Terminada.\n",
      "Aplicando transformación: Agregar edad de tramos      ... Terminada.\n",
      "Aplicando transformación: Aregar área de tramos       ... Terminada.\n",
      "Aplicando transformación: Recalcular pendientes       ... Terminada.\n",
      "Aplicando transformación: Binarizar calificacion      ... Terminada.\n",
      "Aplicando transformación: Seleccionar columnas útiles ... Terminada.\n",
      "Aplicando transformación: Normalizar numéricas        ... Terminada.\n"
     ]
    }
   ],
   "source": [
    "# Aplicar secuencia de transformaciones\n",
    "\n",
    "df_validacion_preprocesados = tx_aplicar_transformaciones(df_tramos_validacion)"
   ]
  },
  {
   "cell_type": "code",
   "execution_count": 7,
   "metadata": {
    "colab": {
     "base_uri": "https://localhost:8080/"
    },
    "executionInfo": {
     "elapsed": 238,
     "status": "ok",
     "timestamp": 1692844688528,
     "user": {
      "displayName": "Juan de Villeros",
      "userId": "10297202580344304481"
     },
     "user_tz": 300
    },
    "id": "nSXIo8_PJjtd",
    "outputId": "ba6e298e-c2a0-4f85-e4dd-2c5c1710cdae"
   },
   "outputs": [
    {
     "name": "stdout",
     "output_type": "stream",
     "text": [
      "<class 'pandas.core.frame.DataFrame'>\n",
      "RangeIndex: 148 entries, 0 to 147\n",
      "Data columns (total 15 columns):\n",
      " #   Column              Non-Null Count  Dtype  \n",
      "---  ------              --------------  -----  \n",
      " 0   DETERIORADO         148 non-null    bool   \n",
      " 1   EDAD                148 non-null    float64\n",
      " 2   DIAMETRO            148 non-null    float64\n",
      " 3   LONGITUD            148 non-null    float64\n",
      " 4   AREA                148 non-null    float64\n",
      " 5   PROF_BATEA          148 non-null    float64\n",
      " 6   PROF_BATE1          148 non-null    float64\n",
      " 7   PENDIENTE           148 non-null    float64\n",
      " 8   TIPO_AGUA           148 non-null    object \n",
      " 9   MATERIAL            148 non-null    object \n",
      " 10  FABRICANTE          148 non-null    object \n",
      " 11  ARRANQUE            148 non-null    bool   \n",
      " 12  ZONA_SUR            148 non-null    bool   \n",
      " 13  MUNICIPIO_MEDELLIN  148 non-null    bool   \n",
      " 14  ESTADO_OPERACION    148 non-null    bool   \n",
      "dtypes: bool(5), float64(7), object(3)\n",
      "memory usage: 12.4+ KB\n",
      "None\n",
      "--------------------------------------------------------------------------------\n",
      "       DETERIORADO          EDAD      DIAMETRO      LONGITUD          AREA    PROF_BATEA    PROF_BATE1     PENDIENTE   TIPO_AGUA         MATERIAL             FABRICANTE ARRANQUE ZONA_SUR MUNICIPIO_MEDELLIN ESTADO_OPERACION\n",
      "count          148  1.480000e+02  1.480000e+02  1.480000e+02  1.480000e+02  1.480000e+02  1.480000e+02  1.480000e+02         148              148                    148      148      148                148              148\n",
      "unique           2           NaN           NaN           NaN           NaN           NaN           NaN           NaN           3                3                      3        2        2                  2                2\n",
      "top          False           NaN           NaN           NaN           NaN           NaN           NaN           NaN  COMBINADAS  CONCRETO SIMPLE  INDUSTRIAS DIQUE S.A.    False     True               True             True\n",
      "freq            81           NaN           NaN           NaN           NaN           NaN           NaN           NaN          60               89                     80      125       81                103              125\n",
      "mean           NaN  3.600723e-17  1.650332e-17 -1.140229e-16 -9.601929e-17 -1.200241e-16  4.740952e-16 -2.400482e-17         NaN              NaN                    NaN      NaN      NaN                NaN              NaN\n",
      "...            ...           ...           ...           ...           ...           ...           ...           ...         ...              ...                    ...      ...      ...                ...              ...\n",
      "min            NaN -1.095968e+00 -7.891596e-01 -1.260160e+00 -8.846495e-01 -2.199185e+00 -2.341536e+00 -5.540724e+00         NaN              NaN                    NaN      NaN      NaN                NaN              NaN\n",
      "25%            NaN -1.023766e+00 -7.891596e-01 -7.815231e-01 -5.717327e-01 -5.565990e-01 -5.845471e-01 -3.066147e-01         NaN              NaN                    NaN      NaN      NaN                NaN              NaN\n",
      "50%            NaN -1.981727e-01 -5.156976e-01 -2.868134e-01 -2.829130e-01 -2.350085e-01 -1.640219e-01 -1.504622e-01         NaN              NaN                    NaN      NaN      NaN                NaN              NaN\n",
      "75%            NaN  9.800819e-01  3.730539e-01  6.191879e-01  1.418828e-01  4.254890e-01  3.803565e-01  1.285919e-01         NaN              NaN                    NaN      NaN      NaN                NaN              NaN\n",
      "max            NaN  2.031984e+00  4.406618e+00  3.581342e+00  4.937632e+00  5.172660e+00  5.239438e+00  6.414454e+00         NaN              NaN                    NaN      NaN      NaN                NaN              NaN\n",
      "\n",
      "[11 rows x 15 columns]\n",
      "--------------------------------------------------------------------------------\n"
     ]
    },
    {
     "data": {
      "text/html": [
       "<div>\n",
       "<style scoped>\n",
       "    .dataframe tbody tr th:only-of-type {\n",
       "        vertical-align: middle;\n",
       "    }\n",
       "\n",
       "    .dataframe tbody tr th {\n",
       "        vertical-align: top;\n",
       "    }\n",
       "\n",
       "    .dataframe thead th {\n",
       "        text-align: right;\n",
       "    }\n",
       "</style>\n",
       "<table border=\"1\" class=\"dataframe\">\n",
       "  <thead>\n",
       "    <tr style=\"text-align: right;\">\n",
       "      <th></th>\n",
       "      <th>DETERIORADO</th>\n",
       "      <th>EDAD</th>\n",
       "      <th>DIAMETRO</th>\n",
       "      <th>LONGITUD</th>\n",
       "      <th>AREA</th>\n",
       "      <th>PROF_BATEA</th>\n",
       "      <th>PROF_BATE1</th>\n",
       "      <th>PENDIENTE</th>\n",
       "      <th>TIPO_AGUA</th>\n",
       "      <th>MATERIAL</th>\n",
       "      <th>FABRICANTE</th>\n",
       "      <th>ARRANQUE</th>\n",
       "      <th>ZONA_SUR</th>\n",
       "      <th>MUNICIPIO_MEDELLIN</th>\n",
       "      <th>ESTADO_OPERACION</th>\n",
       "    </tr>\n",
       "  </thead>\n",
       "  <tbody>\n",
       "    <tr>\n",
       "      <th>0</th>\n",
       "      <td>True</td>\n",
       "      <td>0.974712</td>\n",
       "      <td>1.125074</td>\n",
       "      <td>-0.677047</td>\n",
       "      <td>-0.211999</td>\n",
       "      <td>0.492281</td>\n",
       "      <td>-0.578786</td>\n",
       "      <td>0.939337</td>\n",
       "      <td>COMBINADAS</td>\n",
       "      <td>CONCRETO SIMPLE</td>\n",
       "      <td>INDUSTRIAS DIQUE S.A.</td>\n",
       "      <td>False</td>\n",
       "      <td>True</td>\n",
       "      <td>False</td>\n",
       "      <td>False</td>\n",
       "    </tr>\n",
       "    <tr>\n",
       "      <th>1</th>\n",
       "      <td>False</td>\n",
       "      <td>0.974712</td>\n",
       "      <td>0.578150</td>\n",
       "      <td>0.164865</td>\n",
       "      <td>0.414645</td>\n",
       "      <td>-0.329012</td>\n",
       "      <td>-0.175543</td>\n",
       "      <td>-0.215323</td>\n",
       "      <td>COMBINADAS</td>\n",
       "      <td>CONCRETO SIMPLE</td>\n",
       "      <td>INDUSTRIAS DIQUE S.A.</td>\n",
       "      <td>False</td>\n",
       "      <td>True</td>\n",
       "      <td>False</td>\n",
       "      <td>False</td>\n",
       "    </tr>\n",
       "    <tr>\n",
       "      <th>2</th>\n",
       "      <td>True</td>\n",
       "      <td>1.138265</td>\n",
       "      <td>0.578150</td>\n",
       "      <td>-0.138696</td>\n",
       "      <td>0.142733</td>\n",
       "      <td>0.601127</td>\n",
       "      <td>2.025013</td>\n",
       "      <td>-0.727473</td>\n",
       "      <td>COMBINADAS</td>\n",
       "      <td>CONCRETO SIMPLE</td>\n",
       "      <td>INDUSTRIAS DIQUE S.A.</td>\n",
       "      <td>False</td>\n",
       "      <td>True</td>\n",
       "      <td>False</td>\n",
       "      <td>True</td>\n",
       "    </tr>\n",
       "    <tr>\n",
       "      <th>3</th>\n",
       "      <td>True</td>\n",
       "      <td>1.015342</td>\n",
       "      <td>0.578150</td>\n",
       "      <td>-0.106956</td>\n",
       "      <td>0.171164</td>\n",
       "      <td>0.066792</td>\n",
       "      <td>-0.313798</td>\n",
       "      <td>0.053544</td>\n",
       "      <td>COMBINADAS</td>\n",
       "      <td>CONCRETO SIMPLE</td>\n",
       "      <td>INDUSTRIAS DIQUE S.A.</td>\n",
       "      <td>False</td>\n",
       "      <td>True</td>\n",
       "      <td>False</td>\n",
       "      <td>False</td>\n",
       "    </tr>\n",
       "    <tr>\n",
       "      <th>4</th>\n",
       "      <td>False</td>\n",
       "      <td>-1.027001</td>\n",
       "      <td>-0.515698</td>\n",
       "      <td>-0.628217</td>\n",
       "      <td>-0.570174</td>\n",
       "      <td>-0.685235</td>\n",
       "      <td>-0.820732</td>\n",
       "      <td>-0.029511</td>\n",
       "      <td>OTRAS</td>\n",
       "      <td>PVC</td>\n",
       "      <td>MEXICHEM COLOMBIA S.A.S.</td>\n",
       "      <td>False</td>\n",
       "      <td>True</td>\n",
       "      <td>True</td>\n",
       "      <td>True</td>\n",
       "    </tr>\n",
       "    <tr>\n",
       "      <th>...</th>\n",
       "      <td>...</td>\n",
       "      <td>...</td>\n",
       "      <td>...</td>\n",
       "      <td>...</td>\n",
       "      <td>...</td>\n",
       "      <td>...</td>\n",
       "      <td>...</td>\n",
       "      <td>...</td>\n",
       "      <td>...</td>\n",
       "      <td>...</td>\n",
       "      <td>...</td>\n",
       "      <td>...</td>\n",
       "      <td>...</td>\n",
       "      <td>...</td>\n",
       "      <td>...</td>\n",
       "    </tr>\n",
       "    <tr>\n",
       "      <th>143</th>\n",
       "      <td>True</td>\n",
       "      <td>-0.779213</td>\n",
       "      <td>1.398536</td>\n",
       "      <td>-1.170231</td>\n",
       "      <td>-0.737273</td>\n",
       "      <td>-0.002474</td>\n",
       "      <td>0.262264</td>\n",
       "      <td>-0.388903</td>\n",
       "      <td>COMBINADAS</td>\n",
       "      <td>PVC</td>\n",
       "      <td>MEXICHEM COLOMBIA S.A.S.</td>\n",
       "      <td>False</td>\n",
       "      <td>False</td>\n",
       "      <td>False</td>\n",
       "      <td>True</td>\n",
       "    </tr>\n",
       "    <tr>\n",
       "      <th>144</th>\n",
       "      <td>False</td>\n",
       "      <td>-1.069571</td>\n",
       "      <td>0.058573</td>\n",
       "      <td>1.366491</td>\n",
       "      <td>0.983439</td>\n",
       "      <td>-0.269641</td>\n",
       "      <td>0.077924</td>\n",
       "      <td>-0.254388</td>\n",
       "      <td>COMBINADAS</td>\n",
       "      <td>PVC</td>\n",
       "      <td>MEXICHEM COLOMBIA S.A.S.</td>\n",
       "      <td>False</td>\n",
       "      <td>False</td>\n",
       "      <td>False</td>\n",
       "      <td>True</td>\n",
       "    </tr>\n",
       "    <tr>\n",
       "      <th>145</th>\n",
       "      <td>False</td>\n",
       "      <td>0.344826</td>\n",
       "      <td>-0.789160</td>\n",
       "      <td>-0.951309</td>\n",
       "      <td>-0.767404</td>\n",
       "      <td>-0.022264</td>\n",
       "      <td>0.066403</td>\n",
       "      <td>-0.032186</td>\n",
       "      <td>COMBINADAS</td>\n",
       "      <td>CONCRETO SIMPLE</td>\n",
       "      <td>INDUSTRIAS DIQUE S.A.</td>\n",
       "      <td>False</td>\n",
       "      <td>False</td>\n",
       "      <td>False</td>\n",
       "      <td>True</td>\n",
       "    </tr>\n",
       "    <tr>\n",
       "      <th>146</th>\n",
       "      <td>False</td>\n",
       "      <td>0.361000</td>\n",
       "      <td>0.851612</td>\n",
       "      <td>-0.547241</td>\n",
       "      <td>-0.146552</td>\n",
       "      <td>-0.259746</td>\n",
       "      <td>-0.129458</td>\n",
       "      <td>-0.187141</td>\n",
       "      <td>COMBINADAS</td>\n",
       "      <td>CONCRETO SIMPLE</td>\n",
       "      <td>INDUSTRIAS DIQUE S.A.</td>\n",
       "      <td>False</td>\n",
       "      <td>False</td>\n",
       "      <td>False</td>\n",
       "      <td>True</td>\n",
       "    </tr>\n",
       "    <tr>\n",
       "      <th>147</th>\n",
       "      <td>False</td>\n",
       "      <td>-1.066078</td>\n",
       "      <td>0.058573</td>\n",
       "      <td>-1.026996</td>\n",
       "      <td>-0.707895</td>\n",
       "      <td>-0.071739</td>\n",
       "      <td>-0.290756</td>\n",
       "      <td>0.574789</td>\n",
       "      <td>LLUVIAS Y DESCARGAS</td>\n",
       "      <td>PVC</td>\n",
       "      <td>OTROS</td>\n",
       "      <td>False</td>\n",
       "      <td>False</td>\n",
       "      <td>False</td>\n",
       "      <td>False</td>\n",
       "    </tr>\n",
       "  </tbody>\n",
       "</table>\n",
       "<p>148 rows × 15 columns</p>\n",
       "</div>"
      ],
      "text/plain": [
       "     DETERIORADO      EDAD  DIAMETRO  LONGITUD      AREA  PROF_BATEA  PROF_BATE1  PENDIENTE            TIPO_AGUA         MATERIAL                FABRICANTE  ARRANQUE  ZONA_SUR  MUNICIPIO_MEDELLIN  ESTADO_OPERACION\n",
       "0           True  0.974712  1.125074 -0.677047 -0.211999    0.492281   -0.578786   0.939337           COMBINADAS  CONCRETO SIMPLE     INDUSTRIAS DIQUE S.A.     False      True               False             False\n",
       "1          False  0.974712  0.578150  0.164865  0.414645   -0.329012   -0.175543  -0.215323           COMBINADAS  CONCRETO SIMPLE     INDUSTRIAS DIQUE S.A.     False      True               False             False\n",
       "2           True  1.138265  0.578150 -0.138696  0.142733    0.601127    2.025013  -0.727473           COMBINADAS  CONCRETO SIMPLE     INDUSTRIAS DIQUE S.A.     False      True               False              True\n",
       "3           True  1.015342  0.578150 -0.106956  0.171164    0.066792   -0.313798   0.053544           COMBINADAS  CONCRETO SIMPLE     INDUSTRIAS DIQUE S.A.     False      True               False             False\n",
       "4          False -1.027001 -0.515698 -0.628217 -0.570174   -0.685235   -0.820732  -0.029511                OTRAS              PVC  MEXICHEM COLOMBIA S.A.S.     False      True                True              True\n",
       "..           ...       ...       ...       ...       ...         ...         ...        ...                  ...              ...                       ...       ...       ...                 ...               ...\n",
       "143         True -0.779213  1.398536 -1.170231 -0.737273   -0.002474    0.262264  -0.388903           COMBINADAS              PVC  MEXICHEM COLOMBIA S.A.S.     False     False               False              True\n",
       "144        False -1.069571  0.058573  1.366491  0.983439   -0.269641    0.077924  -0.254388           COMBINADAS              PVC  MEXICHEM COLOMBIA S.A.S.     False     False               False              True\n",
       "145        False  0.344826 -0.789160 -0.951309 -0.767404   -0.022264    0.066403  -0.032186           COMBINADAS  CONCRETO SIMPLE     INDUSTRIAS DIQUE S.A.     False     False               False              True\n",
       "146        False  0.361000  0.851612 -0.547241 -0.146552   -0.259746   -0.129458  -0.187141           COMBINADAS  CONCRETO SIMPLE     INDUSTRIAS DIQUE S.A.     False     False               False              True\n",
       "147        False -1.066078  0.058573 -1.026996 -0.707895   -0.071739   -0.290756   0.574789  LLUVIAS Y DESCARGAS              PVC                     OTROS     False     False               False             False\n",
       "\n",
       "[148 rows x 15 columns]"
      ]
     },
     "metadata": {},
     "output_type": "display_data"
    },
    {
     "name": "stdout",
     "output_type": "stream",
     "text": [
      "--------------------------------------------------------------------------------\n",
      "--------------------------------------------------------------------------------\n",
      "TIPO_AGUA\n",
      "TIPO_AGUA\n",
      "COMBINADAS             60\n",
      "OTRAS                  51\n",
      "LLUVIAS Y DESCARGAS    37\n",
      "Name: count, dtype: int64\n",
      "--------------------------------------------------------------------------------\n",
      "MATERIAL\n",
      "MATERIAL\n",
      "CONCRETO SIMPLE               89\n",
      "PVC                           44\n",
      "CONCRETO REFORZADO Y OTROS    15\n",
      "Name: count, dtype: int64\n",
      "--------------------------------------------------------------------------------\n",
      "FABRICANTE\n",
      "FABRICANTE\n",
      "INDUSTRIAS DIQUE S.A.       80\n",
      "MEXICHEM COLOMBIA S.A.S.    38\n",
      "OTROS                       30\n",
      "Name: count, dtype: int64\n"
     ]
    }
   ],
   "source": [
    "print(df_validacion_preprocesados.info())\n",
    "print('-'*80)\n",
    "print(df_validacion_preprocesados.describe(include='all'))\n",
    "print('-'*80)\n",
    "display(df_validacion_preprocesados)\n",
    "print('-'*80)\n",
    "\n",
    "columnas_categoricas = list(df_validacion_preprocesados.select_dtypes(include=['object']).columns)\n",
    "columnas_numericas = list(df_validacion_preprocesados.select_dtypes(include=['int', 'float']).columns)\n",
    "for columna in columnas_categoricas:\n",
    "    print('-' * 80)\n",
    "    print(columna)\n",
    "    print(df_validacion_preprocesados[columna].value_counts())\n"
   ]
  },
  {
   "cell_type": "code",
   "execution_count": 8,
   "metadata": {
    "colab": {
     "base_uri": "https://localhost:8080/"
    },
    "executionInfo": {
     "elapsed": 272,
     "status": "ok",
     "timestamp": 1692844697806,
     "user": {
      "displayName": "Juan de Villeros",
      "userId": "10297202580344304481"
     },
     "user_tz": 300
    },
    "id": "0RbSf8yyK-Uj",
    "outputId": "3794488b-e5c1-4ec9-d630-27c54754c6a6"
   },
   "outputs": [
    {
     "name": "stdout",
     "output_type": "stream",
     "text": [
      "<class 'pandas.core.frame.DataFrame'>\n",
      "RangeIndex: 148 entries, 0 to 147\n",
      "Data columns (total 21 columns):\n",
      " #   Column                               Non-Null Count  Dtype  \n",
      "---  ------                               --------------  -----  \n",
      " 0   DETERIORADO                          148 non-null    bool   \n",
      " 1   EDAD                                 148 non-null    float64\n",
      " 2   DIAMETRO                             148 non-null    float64\n",
      " 3   LONGITUD                             148 non-null    float64\n",
      " 4   AREA                                 148 non-null    float64\n",
      " 5   PROF_BATEA                           148 non-null    float64\n",
      " 6   PROF_BATE1                           148 non-null    float64\n",
      " 7   PENDIENTE                            148 non-null    float64\n",
      " 8   ARRANQUE                             148 non-null    bool   \n",
      " 9   ZONA_SUR                             148 non-null    bool   \n",
      " 10  MUNICIPIO_MEDELLIN                   148 non-null    bool   \n",
      " 11  ESTADO_OPERACION                     148 non-null    bool   \n",
      " 12  TIPO_AGUA_COMBINADAS                 148 non-null    bool   \n",
      " 13  TIPO_AGUA_LLUVIAS Y DESCARGAS        148 non-null    bool   \n",
      " 14  TIPO_AGUA_OTRAS                      148 non-null    bool   \n",
      " 15  MATERIAL_CONCRETO REFORZADO Y OTROS  148 non-null    bool   \n",
      " 16  MATERIAL_CONCRETO SIMPLE             148 non-null    bool   \n",
      " 17  MATERIAL_PVC                         148 non-null    bool   \n",
      " 18  FABRICANTE_INDUSTRIAS DIQUE S.A.     148 non-null    bool   \n",
      " 19  FABRICANTE_MEXICHEM COLOMBIA S.A.S.  148 non-null    bool   \n",
      " 20  FABRICANTE_OTROS                     148 non-null    bool   \n",
      "dtypes: bool(14), float64(7)\n",
      "memory usage: 10.2 KB\n",
      "None\n"
     ]
    }
   ],
   "source": [
    "df_validacion_codificados = tx_codificar(df_validacion_preprocesados)\n",
    "print(df_validacion_codificados.info())"
   ]
  },
  {
   "cell_type": "code",
   "execution_count": 9,
   "metadata": {
    "colab": {
     "base_uri": "https://localhost:8080/"
    },
    "executionInfo": {
     "elapsed": 814,
     "status": "ok",
     "timestamp": 1692840991801,
     "user": {
      "displayName": "Juan de Villeros",
      "userId": "10297202580344304481"
     },
     "user_tz": 300
    },
    "id": "ue17g5o0LYs2",
    "outputId": "6480fca1-4478-45c6-9c85-3838b5a1964d"
   },
   "outputs": [
    {
     "name": "stdout",
     "output_type": "stream",
     "text": [
      "LogisticRegression(C=5,\n",
      "                   class_weight={False: 1,\n",
      "                                 True: np.float64(1.2031437966156067)},\n",
      "                   n_jobs=-1, solver='newton-cholesky')\n"
     ]
    }
   ],
   "source": [
    "# Cargar modelo\n",
    "\n",
    "archivo_modelo = f'{DIRECTORIO_MODELOS}/modelo.joblib'\n",
    "modelo = joblib.load(archivo_modelo)\n",
    "print(modelo)"
   ]
  },
  {
   "cell_type": "code",
   "execution_count": 10,
   "metadata": {},
   "outputs": [
    {
     "name": "stdout",
     "output_type": "stream",
     "text": [
      "['EDAD', 'DIAMETRO', 'LONGITUD', 'AREA', 'PROF_BATEA', 'PROF_BATE1', 'PENDIENTE', 'ARRANQUE', 'ZONA_SUR', 'MUNICIPIO_MEDELLIN', 'ESTADO_OPERACION', 'TIPO_AGUA_COMBINADAS', 'TIPO_AGUA_LLUVIAS Y DESCARGAS', 'TIPO_AGUA_OTRAS', 'MATERIAL_CONCRETO REFORZADO Y OTROS', 'MATERIAL_CONCRETO SIMPLE', 'MATERIAL_PVC', 'FABRICANTE_INDUSTRIAS DIQUE S.A.', 'FABRICANTE_MEXICHEM COLOMBIA S.A.S.', 'FABRICANTE_OTROS']\n"
     ]
    }
   ],
   "source": [
    "# Cargar columnas\n",
    "\n",
    "columnas_modelo = []\n",
    "archivo_columnas = f'{DIRECTORIO_MODELOS}/COLUMNAS.txt'\n",
    "\n",
    "with open(archivo_columnas, \"r\") as archivo:\n",
    "    for linea in archivo:\n",
    "        cadena = linea.strip()\n",
    "        columnas_modelo.append(cadena)\n",
    "\n",
    "print(columnas_modelo)\n"
   ]
  },
  {
   "cell_type": "code",
   "execution_count": 11,
   "metadata": {
    "executionInfo": {
     "elapsed": 215,
     "status": "ok",
     "timestamp": 1692844703100,
     "user": {
      "displayName": "Juan de Villeros",
      "userId": "10297202580344304481"
     },
     "user_tz": 300
    },
    "id": "ZTogL9JZL8qN"
   },
   "outputs": [
    {
     "name": "stdout",
     "output_type": "stream",
     "text": [
      "<class 'pandas.core.frame.DataFrame'>\n",
      "RangeIndex: 148 entries, 0 to 147\n",
      "Data columns (total 20 columns):\n",
      " #   Column                               Non-Null Count  Dtype  \n",
      "---  ------                               --------------  -----  \n",
      " 0   EDAD                                 148 non-null    float64\n",
      " 1   DIAMETRO                             148 non-null    float64\n",
      " 2   LONGITUD                             148 non-null    float64\n",
      " 3   AREA                                 148 non-null    float64\n",
      " 4   PROF_BATEA                           148 non-null    float64\n",
      " 5   PROF_BATE1                           148 non-null    float64\n",
      " 6   PENDIENTE                            148 non-null    float64\n",
      " 7   ARRANQUE                             148 non-null    bool   \n",
      " 8   ZONA_SUR                             148 non-null    bool   \n",
      " 9   MUNICIPIO_MEDELLIN                   148 non-null    bool   \n",
      " 10  ESTADO_OPERACION                     148 non-null    bool   \n",
      " 11  TIPO_AGUA_COMBINADAS                 148 non-null    bool   \n",
      " 12  TIPO_AGUA_LLUVIAS Y DESCARGAS        148 non-null    bool   \n",
      " 13  TIPO_AGUA_OTRAS                      148 non-null    bool   \n",
      " 14  MATERIAL_CONCRETO REFORZADO Y OTROS  148 non-null    bool   \n",
      " 15  MATERIAL_CONCRETO SIMPLE             148 non-null    bool   \n",
      " 16  MATERIAL_PVC                         148 non-null    bool   \n",
      " 17  FABRICANTE_INDUSTRIAS DIQUE S.A.     148 non-null    bool   \n",
      " 18  FABRICANTE_MEXICHEM COLOMBIA S.A.S.  148 non-null    bool   \n",
      " 19  FABRICANTE_OTROS                     148 non-null    bool   \n",
      "dtypes: bool(13), float64(7)\n",
      "memory usage: 10.1 KB\n",
      "None\n"
     ]
    }
   ],
   "source": [
    "# Seleccionar columnas\n",
    "\n",
    "X_validacion = df_validacion_codificados.drop('DETERIORADO', axis='columns')\n",
    "Y_validacion = df_validacion_codificados['DETERIORADO']\n",
    "\n",
    "# Agregar columnas faltantes\n",
    "for col in columnas_modelo:\n",
    "    if col not in X_validacion.columns:\n",
    "        print(f'Agregando {col}')\n",
    "        X_validacion[col] = False\n",
    "\n",
    "# Reordenar columnas\n",
    "X_validacion = X_validacion[columnas_modelo]\n",
    "\n",
    "print(X_validacion.info())"
   ]
  },
  {
   "cell_type": "code",
   "execution_count": 12,
   "metadata": {
    "executionInfo": {
     "elapsed": 215,
     "status": "ok",
     "timestamp": 1692844703100,
     "user": {
      "displayName": "Juan de Villeros",
      "userId": "10297202580344304481"
     },
     "user_tz": 300
    },
    "id": "ZTogL9JZL8qN"
   },
   "outputs": [],
   "source": [
    "# Efectuar predicción\n",
    "\n",
    "y_pred = modelo.predict(X_validacion)"
   ]
  },
  {
   "cell_type": "code",
   "execution_count": 13,
   "metadata": {
    "colab": {
     "base_uri": "https://localhost:8080/",
     "height": 363
    },
    "executionInfo": {
     "elapsed": 1402,
     "status": "ok",
     "timestamp": 1692844722275,
     "user": {
      "displayName": "Juan de Villeros",
      "userId": "10297202580344304481"
     },
     "user_tz": 300
    },
    "id": "VctaMm_FM3eV",
    "outputId": "60c9f527-3e98-486c-aaad-b562967a94a8"
   },
   "outputs": [
    {
     "name": "stdout",
     "output_type": "stream",
     "text": [
      "              precision    recall  f1-score   support\n",
      "\n",
      "       False       0.80      0.70      0.75        81\n",
      "        True       0.69      0.79      0.74        67\n",
      "\n",
      "    accuracy                           0.74       148\n",
      "   macro avg       0.75      0.75      0.74       148\n",
      "weighted avg       0.75      0.74      0.74       148\n",
      "\n"
     ]
    },
    {
     "data": {
      "image/png": "[encoded data removed]",
      "text/plain": [
       "<Figure size 800x200 with 1 Axes>"
      ]
     },
     "metadata": {},
     "output_type": "display_data"
    }
   ],
   "source": [
    "# Evaluar prediccion\n",
    "\n",
    "print(classification_report(Y_validacion, y_pred))\n",
    "conf_matrix = confusion_matrix(Y_validacion, y_pred)\n",
    "class_names = [False, True]\n",
    "plt.figure(figsize=(8, 2))\n",
    "plt.subplot(1, 2, 1)\n",
    "sns.heatmap(conf_matrix, annot=True, fmt='d', cmap='Greens', cbar=False, xticklabels=class_names, yticklabels=class_names)\n",
    "plt.xlabel('Predicción deterioro', fontweight='bold')\n",
    "plt.ylabel('Real', fontweight='bold')\n",
    "plt.title('Matriz de confusión - Datos de validación', fontsize=10, fontweight='bold')\n",
    "plt.tight_layout()\n",
    "plt.show()"
   ]
  }
 ],
 "metadata": {
  "colab": {
   "authorship_tag": "ABX9TyPpP8YZAu8/qiWbnIAsm5+N",
   "provenance": []
  },
  "kernelspec": {
   "display_name": ".venv",
   "language": "python",
   "name": "python3"
  },
  "language_info": {
   "codemirror_mode": {
    "name": "ipython",
    "version": 3
   },
   "file_extension": ".py",
   "mimetype": "text/x-python",
   "name": "python",
   "nbconvert_exporter": "python",
   "pygments_lexer": "ipython3",
   "version": "3.12.7"
  }
 },
 "nbformat": 4,
 "nbformat_minor": 4
}
