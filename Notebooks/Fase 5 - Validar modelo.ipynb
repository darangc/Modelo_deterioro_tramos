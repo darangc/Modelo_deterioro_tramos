{
 "cells": [
  {
   "cell_type": "markdown",
   "metadata": {
    "id": "13GWDvDAeZrD"
   },
   "source": [
    "# Validación de modelo"
   ]
  },
  {
   "cell_type": "code",
   "execution_count": 1,
   "metadata": {
    "executionInfo": {
     "elapsed": 580,
     "status": "ok",
     "timestamp": 1692841301880,
     "user": {
      "displayName": "Juan de Villeros",
      "userId": "10297202580344304481"
     },
     "user_tz": 300
    },
    "id": "7zI_Fz_x7Tro"
   },
   "outputs": [],
   "source": [
    "import pandas as pd\n",
    "import joblib\n",
    "from sklearn.metrics import classification_report, confusion_matrix\n",
    "\n",
    "import matplotlib.pyplot as plt\n",
    "import seaborn as sns\n"
   ]
  },
  {
   "cell_type": "code",
   "execution_count": null,
   "metadata": {
    "executionInfo": {
     "elapsed": 1605,
     "status": "ok",
     "timestamp": 1692837999166,
     "user": {
      "displayName": "Juan de Villeros",
      "userId": "10297202580344304481"
     },
     "user_tz": 300
    },
    "id": "DTtJLl4R9C8C"
   },
   "outputs": [],
   "source": [
    "# Definiciones globales y funciones de transformación\n",
    "\n",
    "%run ../Lib/pandas_options.py\n",
    "%run ../Lib/define_constantes.py\n",
    "%run ../Lib/fn_transformaciones.py"
   ]
  },
  {
   "cell_type": "code",
   "execution_count": null,
   "metadata": {
    "colab": {
     "base_uri": "https://localhost:8080/"
    },
    "executionInfo": {
     "elapsed": 233,
     "status": "ok",
     "timestamp": 1692844670762,
     "user": {
      "displayName": "Juan de Villeros",
      "userId": "10297202580344304481"
     },
     "user_tz": 300
    },
    "id": "8vf2_zFM4xtp",
    "outputId": "52453986-dc5b-4029-9a7d-91a459907e84"
   },
   "outputs": [],
   "source": [
    "#  Cargar archivo para validación\n",
    "\n",
    "archivo_validacion = f'{DIRECTORIO_DATOS}/DATOSVALIDACION.csv'\n",
    "\n",
    "df_cctv_validacion = pd.read_csv(archivo_validacion, usecols=['Ipid', 'GradoCalificacionPrincipal', 'Fecha'])\n",
    "df_cctv_validacion.rename(\n",
    "    columns={'Ipid': 'IPID', 'GradoCalificacionPrincipal': 'CALIFICACION', 'Fecha': 'FECHA_CALIFICACION'},\n",
    "    inplace=True\n",
    ")\n",
    "# Filtrar datos de validacion\n",
    "df_cctv_validacion = df_cctv_validacion.tail(102)\n",
    "\n",
    "print(df_cctv_validacion.info())"
   ]
  },
  {
   "cell_type": "code",
   "execution_count": null,
   "metadata": {
    "colab": {
     "base_uri": "https://localhost:8080/"
    },
    "executionInfo": {
     "elapsed": 5571,
     "status": "ok",
     "timestamp": 1692839786386,
     "user": {
      "displayName": "Juan de Villeros",
      "userId": "10297202580344304481"
     },
     "user_tz": 300
    },
    "id": "vqljvqxGBrXj",
    "outputId": "8d4811bb-ff32-4c98-fb97-ded3103683be"
   },
   "outputs": [],
   "source": [
    "# Cargar archivo de tramos\n",
    "\n",
    "archivo_tramos = f'{DIRECTORIO_DATOS}/DATOSTRAMOS_2023-08-06.csv'\n",
    "df_tramos = pd.read_csv(archivo_tramos, low_memory=False)\n",
    "\n",
    "print(df_tramos.info())"
   ]
  },
  {
   "cell_type": "code",
   "execution_count": null,
   "metadata": {
    "colab": {
     "base_uri": "https://localhost:8080/"
    },
    "executionInfo": {
     "elapsed": 230,
     "status": "ok",
     "timestamp": 1692844678462,
     "user": {
      "displayName": "Juan de Villeros",
      "userId": "10297202580344304481"
     },
     "user_tz": 300
    },
    "id": "lbF5lJ2nH_vO",
    "outputId": "ba98b207-51d6-4e90-ac61-e00bb55c7fe2"
   },
   "outputs": [],
   "source": [
    "# Consolidar tramos de validacion\n",
    "\n",
    "df_tramos_validacion = df_tramos.merge(df_cctv_validacion, on='IPID')\n",
    "print(df_tramos_validacion.info())"
   ]
  },
  {
   "cell_type": "code",
   "execution_count": null,
   "metadata": {
    "colab": {
     "base_uri": "https://localhost:8080/"
    },
    "executionInfo": {
     "elapsed": 229,
     "status": "ok",
     "timestamp": 1692844685294,
     "user": {
      "displayName": "Juan de Villeros",
      "userId": "10297202580344304481"
     },
     "user_tz": 300
    },
    "id": "WPUMc7gFJN9L",
    "outputId": "ad5c05cf-4fbb-48be-f31e-69fd81838655"
   },
   "outputs": [],
   "source": [
    "# Aplicar secuencia de transformaciones\n",
    "\n",
    "df_validacion_preprocesados = tx_aplicar_transformaciones(df_tramos_validacion)"
   ]
  },
  {
   "cell_type": "code",
   "execution_count": null,
   "metadata": {
    "colab": {
     "base_uri": "https://localhost:8080/"
    },
    "executionInfo": {
     "elapsed": 238,
     "status": "ok",
     "timestamp": 1692844688528,
     "user": {
      "displayName": "Juan de Villeros",
      "userId": "10297202580344304481"
     },
     "user_tz": 300
    },
    "id": "nSXIo8_PJjtd",
    "outputId": "ba6e298e-c2a0-4f85-e4dd-2c5c1710cdae"
   },
   "outputs": [],
   "source": [
    "print(df_validacion_preprocesados.info())\n",
    "print('-'*80)\n",
    "print(df_validacion_preprocesados.describe(include='all'))\n",
    "print('-'*80)\n",
    "print(df_validacion_preprocesados.head())\n",
    "print('-'*80)\n",
    "\n",
    "columnas_categoricas = list(df_validacion_preprocesados.select_dtypes(include=['object']).columns)\n",
    "columnas_numericas = list(df_validacion_preprocesados.select_dtypes(include=['int', 'float']).columns)\n",
    "for columna in columnas_categoricas:\n",
    "    print('-' * 80)\n",
    "    print(columna)\n",
    "    print(df_validacion_preprocesados[columna].value_counts())\n"
   ]
  },
  {
   "cell_type": "code",
   "execution_count": null,
   "metadata": {
    "colab": {
     "base_uri": "https://localhost:8080/"
    },
    "executionInfo": {
     "elapsed": 272,
     "status": "ok",
     "timestamp": 1692844697806,
     "user": {
      "displayName": "Juan de Villeros",
      "userId": "10297202580344304481"
     },
     "user_tz": 300
    },
    "id": "0RbSf8yyK-Uj",
    "outputId": "3794488b-e5c1-4ec9-d630-27c54754c6a6"
   },
   "outputs": [],
   "source": [
    "df_validacion_codificados = tx_codificar(df_validacion_preprocesados)\n",
    "print(df_validacion_codificados.info())"
   ]
  },
  {
   "cell_type": "code",
   "execution_count": null,
   "metadata": {
    "colab": {
     "base_uri": "https://localhost:8080/"
    },
    "executionInfo": {
     "elapsed": 814,
     "status": "ok",
     "timestamp": 1692840991801,
     "user": {
      "displayName": "Juan de Villeros",
      "userId": "10297202580344304481"
     },
     "user_tz": 300
    },
    "id": "ue17g5o0LYs2",
    "outputId": "6480fca1-4478-45c6-9c85-3838b5a1964d"
   },
   "outputs": [],
   "source": [
    "# Cargar modelo\n",
    "\n",
    "archivo_modelo = f'{DIRECTORIO_MODELOS}/modelo.joblib'\n",
    "modelo = joblib.load(archivo_modelo)\n",
    "print(modelo)"
   ]
  },
  {
   "cell_type": "code",
   "execution_count": null,
   "metadata": {},
   "outputs": [],
   "source": [
    "# Cargar columnas\n",
    "\n",
    "columnas_modelo = []\n",
    "archivo_columnas = f'{DIRECTORIO_MODELOS}/COLUMNAS.txt'\n",
    "\n",
    "with open(archivo_columnas, \"r\") as archivo:\n",
    "    for linea in archivo:\n",
    "        cadena = linea.strip()\n",
    "        columnas_modelo.append(cadena)\n",
    "\n",
    "print(columnas_modelo)\n"
   ]
  },
  {
   "cell_type": "code",
   "execution_count": null,
   "metadata": {
    "executionInfo": {
     "elapsed": 215,
     "status": "ok",
     "timestamp": 1692844703100,
     "user": {
      "displayName": "Juan de Villeros",
      "userId": "10297202580344304481"
     },
     "user_tz": 300
    },
    "id": "ZTogL9JZL8qN"
   },
   "outputs": [],
   "source": [
    "# Seleccionar columnas\n",
    "\n",
    "X_validacion = df_validacion_codificados.drop('DETERIORADO', axis='columns')\n",
    "Y_validacion = df_validacion_codificados['DETERIORADO']\n",
    "\n",
    "# Agregar columnas faltantes\n",
    "for col in columnas_modelo:\n",
    "    if col not in X_validacion.columns:\n",
    "        print(f'Agregando {col}')\n",
    "        X_validacion[col] = False\n",
    "\n",
    "# Reordenar columnas\n",
    "X_validacion = X_validacion[columnas_modelo]\n",
    "\n",
    "print(X_validacion.info())"
   ]
  },
  {
   "cell_type": "code",
   "execution_count": 14,
   "metadata": {
    "executionInfo": {
     "elapsed": 215,
     "status": "ok",
     "timestamp": 1692844703100,
     "user": {
      "displayName": "Juan de Villeros",
      "userId": "10297202580344304481"
     },
     "user_tz": 300
    },
    "id": "ZTogL9JZL8qN"
   },
   "outputs": [],
   "source": [
    "# Efectuar predicción\n",
    "\n",
    "y_pred = modelo.predict(X_validacion)"
   ]
  },
  {
   "cell_type": "code",
   "execution_count": null,
   "metadata": {
    "colab": {
     "base_uri": "https://localhost:8080/",
     "height": 363
    },
    "executionInfo": {
     "elapsed": 1402,
     "status": "ok",
     "timestamp": 1692844722275,
     "user": {
      "displayName": "Juan de Villeros",
      "userId": "10297202580344304481"
     },
     "user_tz": 300
    },
    "id": "VctaMm_FM3eV",
    "outputId": "60c9f527-3e98-486c-aaad-b562967a94a8"
   },
   "outputs": [],
   "source": [
    "# Evaluar prediccion\n",
    "\n",
    "print(classification_report(Y_validacion, y_pred))\n",
    "conf_matrix = confusion_matrix(Y_validacion, y_pred)\n",
    "class_names = [False, True]\n",
    "plt.figure(figsize=(8, 2))\n",
    "plt.subplot(1, 2, 1)\n",
    "sns.heatmap(conf_matrix, annot=True, fmt='d', cmap='Greens', cbar=False, xticklabels=class_names, yticklabels=class_names)\n",
    "plt.xlabel('Predicción deterioro', fontweight='bold')\n",
    "plt.ylabel('Real', fontweight='bold')\n",
    "plt.title('Matriz de confusión - Datos de validación', fontsize=10, fontweight='bold')\n",
    "plt.tight_layout()\n",
    "plt.show()"
   ]
  }
 ],
 "metadata": {
  "colab": {
   "authorship_tag": "ABX9TyPpP8YZAu8/qiWbnIAsm5+N",
   "provenance": []
  },
  "kernelspec": {
   "display_name": "Python 3 (ipykernel)",
   "language": "python",
   "name": "python3"
  },
  "language_info": {
   "codemirror_mode": {
    "name": "ipython",
    "version": 3
   },
   "file_extension": ".py",
   "mimetype": "text/x-python",
   "name": "python",
   "nbconvert_exporter": "python",
   "pygments_lexer": "ipython3",
   "version": "3.12.5"
  }
 },
 "nbformat": 4,
 "nbformat_minor": 4
}
