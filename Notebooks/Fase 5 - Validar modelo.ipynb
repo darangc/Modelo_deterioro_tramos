{
 "cells": [
  {
   "cell_type": "markdown",
   "metadata": {
    "id": "13GWDvDAeZrD"
   },
   "source": [
    "# Validación de modelo"
   ]
  },
  {
   "cell_type": "code",
   "execution_count": 1,
   "metadata": {
    "executionInfo": {
     "elapsed": 580,
     "status": "ok",
     "timestamp": 1692841301880,
     "user": {
      "displayName": "Juan de Villeros",
      "userId": "10297202580344304481"
     },
     "user_tz": 300
    },
    "id": "7zI_Fz_x7Tro"
   },
   "outputs": [],
   "source": [
    "import pandas as pd\n",
    "import joblib\n",
    "from sklearn.metrics import classification_report, confusion_matrix\n",
    "\n",
    "import matplotlib.pyplot as plt\n",
    "import seaborn as sns\n"
   ]
  },
  {
   "cell_type": "code",
   "execution_count": 2,
   "metadata": {
    "executionInfo": {
     "elapsed": 1605,
     "status": "ok",
     "timestamp": 1692837999166,
     "user": {
      "displayName": "Juan de Villeros",
      "userId": "10297202580344304481"
     },
     "user_tz": 300
    },
    "id": "DTtJLl4R9C8C"
   },
   "outputs": [
    {
     "name": "stdout",
     "output_type": "stream",
     "text": [
      "Fecha y Hora de ejecución de módulo: 2024-09-08 23:17:06\n"
     ]
    }
   ],
   "source": [
    "# Definiciones globales y funciones de transformación\n",
    "\n",
    "%run ../Lib/pandas_options.py\n",
    "%run ../Lib/define_constantes.py\n",
    "%run ../Lib/fn_transformaciones.py"
   ]
  },
  {
   "cell_type": "code",
   "execution_count": 3,
   "metadata": {
    "colab": {
     "base_uri": "https://localhost:8080/"
    },
    "executionInfo": {
     "elapsed": 233,
     "status": "ok",
     "timestamp": 1692844670762,
     "user": {
      "displayName": "Juan de Villeros",
      "userId": "10297202580344304481"
     },
     "user_tz": 300
    },
    "id": "8vf2_zFM4xtp",
    "outputId": "52453986-dc5b-4029-9a7d-91a459907e84"
   },
   "outputs": [
    {
     "name": "stdout",
     "output_type": "stream",
     "text": [
      "<class 'pandas.core.frame.DataFrame'>\n",
      "RangeIndex: 102 entries, 146 to 247\n",
      "Data columns (total 3 columns):\n",
      " #   Column              Non-Null Count  Dtype \n",
      "---  ------              --------------  ----- \n",
      " 0   IPID                102 non-null    int64 \n",
      " 1   CALIFICACION        102 non-null    int64 \n",
      " 2   FECHA_CALIFICACION  102 non-null    object\n",
      "dtypes: int64(2), object(1)\n",
      "memory usage: 2.5+ KB\n",
      "None\n"
     ]
    }
   ],
   "source": [
    "#  Cargar archivo para validación\n",
    "\n",
    "archivo_validacion = f'{DIRECTORIO_DATOS}/DATOSVALIDACION.csv'\n",
    "\n",
    "df_cctv_validacion = pd.read_csv(archivo_validacion, usecols=['Ipid', 'GradoCalificacionPrincipal', 'Fecha'])\n",
    "df_cctv_validacion.rename(\n",
    "    columns={'Ipid': 'IPID', 'GradoCalificacionPrincipal': 'CALIFICACION', 'Fecha': 'FECHA_CALIFICACION'},\n",
    "    inplace=True\n",
    ")\n",
    "# Filtrar datos de validacion\n",
    "df_cctv_validacion = df_cctv_validacion.tail(102)\n",
    "\n",
    "print(df_cctv_validacion.info())"
   ]
  },
  {
   "cell_type": "code",
   "execution_count": 4,
   "metadata": {
    "colab": {
     "base_uri": "https://localhost:8080/"
    },
    "executionInfo": {
     "elapsed": 5571,
     "status": "ok",
     "timestamp": 1692839786386,
     "user": {
      "displayName": "Juan de Villeros",
      "userId": "10297202580344304481"
     },
     "user_tz": 300
    },
    "id": "vqljvqxGBrXj",
    "outputId": "8d4811bb-ff32-4c98-fb97-ded3103683be"
   },
   "outputs": [
    {
     "name": "stdout",
     "output_type": "stream",
     "text": [
      "<class 'pandas.core.frame.DataFrame'>\n",
      "RangeIndex: 205754 entries, 0 to 205753\n",
      "Data columns (total 48 columns):\n",
      " #   Column      Non-Null Count   Dtype  \n",
      "---  ------      --------------   -----  \n",
      " 0   DIAMETRO    205754 non-null  int64  \n",
      " 1   CAMARA_CAI  205754 non-null  object \n",
      " 2   CONEXIONES  97049 non-null   object \n",
      " 3   MATERIAL    205377 non-null  object \n",
      " 4   TUBERIA_EL  197356 non-null  object \n",
      " 5   VIDA_UTIL   195982 non-null  float64\n",
      " 6   FABRICANTE  190888 non-null  object \n",
      " 7   TIPO_CIMEN  83807 non-null   object \n",
      " 8   TIPO_SUELO  65523 non-null   object \n",
      " 9   TIPO_RED    205754 non-null  object \n",
      " 10  PROF_BATEA  204504 non-null  float64\n",
      " 11  PROF_BATE1  204369 non-null  float64\n",
      " 12  COTA_BATEA  202933 non-null  float64\n",
      " 13  COTA_BATE1  202919 non-null  float64\n",
      " 14  IPID        205754 non-null  int64  \n",
      " 15  ESTADO      205754 non-null  object \n",
      " 16  GRUPO       205754 non-null  object \n",
      " 17  PROPIETARI  205734 non-null  object \n",
      " 18  OPERADOR    205512 non-null  object \n",
      " 19  EMPRESA     205754 non-null  object \n",
      " 20  COD_MUNICI  205754 non-null  int64  \n",
      " 21  COD_DEPART  205754 non-null  int64  \n",
      " 22  COD_PAIS    205752 non-null  float64\n",
      " 23  LONGITUD    205754 non-null  float64\n",
      " 24  ARRANQUE    205630 non-null  object \n",
      " 25  TIPO_AGUA   205754 non-null  object \n",
      " 26  CUENCA      204712 non-null  object \n",
      " 27  CONDICION_  80128 non-null   object \n",
      " 28  DIAMETRO_I  135311 non-null  float64\n",
      " 29  MATERIAL_R  851 non-null     object \n",
      " 30  NOMBRE_COL  17005 non-null   object \n",
      " 31  PENDIENTE   202584 non-null  float64\n",
      " 32  PROFUNDIDA  118411 non-null  float64\n",
      " 33  CAUDAL_TUB  169451 non-null  float64\n",
      " 34  CAUDAL_DIS  179317 non-null  float64\n",
      " 35  COEFICIENT  190038 non-null  float64\n",
      " 36  OBSERVACIO  106517 non-null  object \n",
      " 37  UBICACION   9407 non-null    object \n",
      " 38  FECHA_INST  190115 non-null  object \n",
      " 39  COOR_LAT    205532 non-null  float64\n",
      " 40  COOR_LON    205532 non-null  float64\n",
      " 41  ESTADO_OPE  205754 non-null  object \n",
      " 42  PAIS        205754 non-null  object \n",
      " 43  DEPARTAMEN  205754 non-null  object \n",
      " 44  MUNICIPIO   205754 non-null  object \n",
      " 45  CODIGO_ARE  203569 non-null  object \n",
      " 46  ZONA        203569 non-null  object \n",
      " 47  CUENCA_HID  204637 non-null  object \n",
      "dtypes: float64(15), int64(4), object(29)\n",
      "memory usage: 75.3+ MB\n",
      "None\n"
     ]
    }
   ],
   "source": [
    "# Cargar archivo de tramos\n",
    "\n",
    "archivo_tramos = f'{DIRECTORIO_DATOS}/DATOSTRAMOS_2023-08-06.csv'\n",
    "df_tramos = pd.read_csv(archivo_tramos, low_memory=False)\n",
    "\n",
    "print(df_tramos.info())"
   ]
  },
  {
   "cell_type": "code",
   "execution_count": 5,
   "metadata": {
    "colab": {
     "base_uri": "https://localhost:8080/"
    },
    "executionInfo": {
     "elapsed": 230,
     "status": "ok",
     "timestamp": 1692844678462,
     "user": {
      "displayName": "Juan de Villeros",
      "userId": "10297202580344304481"
     },
     "user_tz": 300
    },
    "id": "lbF5lJ2nH_vO",
    "outputId": "ba98b207-51d6-4e90-ac61-e00bb55c7fe2"
   },
   "outputs": [
    {
     "name": "stdout",
     "output_type": "stream",
     "text": [
      "<class 'pandas.core.frame.DataFrame'>\n",
      "RangeIndex: 101 entries, 0 to 100\n",
      "Data columns (total 50 columns):\n",
      " #   Column              Non-Null Count  Dtype  \n",
      "---  ------              --------------  -----  \n",
      " 0   DIAMETRO            101 non-null    int64  \n",
      " 1   CAMARA_CAI          101 non-null    object \n",
      " 2   CONEXIONES          51 non-null     object \n",
      " 3   MATERIAL            101 non-null    object \n",
      " 4   TUBERIA_EL          99 non-null     object \n",
      " 5   VIDA_UTIL           99 non-null     float64\n",
      " 6   FABRICANTE          101 non-null    object \n",
      " 7   TIPO_CIMEN          24 non-null     object \n",
      " 8   TIPO_SUELO          21 non-null     object \n",
      " 9   TIPO_RED            101 non-null    object \n",
      " 10  PROF_BATEA          101 non-null    float64\n",
      " 11  PROF_BATE1          100 non-null    float64\n",
      " 12  COTA_BATEA          99 non-null     float64\n",
      " 13  COTA_BATE1          100 non-null    float64\n",
      " 14  IPID                101 non-null    int64  \n",
      " 15  ESTADO              101 non-null    object \n",
      " 16  GRUPO               101 non-null    object \n",
      " 17  PROPIETARI          101 non-null    object \n",
      " 18  OPERADOR            101 non-null    object \n",
      " 19  EMPRESA             101 non-null    object \n",
      " 20  COD_MUNICI          101 non-null    int64  \n",
      " 21  COD_DEPART          101 non-null    int64  \n",
      " 22  COD_PAIS            101 non-null    float64\n",
      " 23  LONGITUD            101 non-null    float64\n",
      " 24  ARRANQUE            101 non-null    object \n",
      " 25  TIPO_AGUA           101 non-null    object \n",
      " 26  CUENCA              101 non-null    object \n",
      " 27  CONDICION_          47 non-null     object \n",
      " 28  DIAMETRO_I          66 non-null     float64\n",
      " 29  MATERIAL_R          0 non-null      object \n",
      " 30  NOMBRE_COL          11 non-null     object \n",
      " 31  PENDIENTE           100 non-null    float64\n",
      " 32  PROFUNDIDA          53 non-null     float64\n",
      " 33  CAUDAL_TUB          77 non-null     float64\n",
      " 34  CAUDAL_DIS          89 non-null     float64\n",
      " 35  COEFICIENT          97 non-null     float64\n",
      " 36  OBSERVACIO          53 non-null     object \n",
      " 37  UBICACION           3 non-null      object \n",
      " 38  FECHA_INST          101 non-null    object \n",
      " 39  COOR_LAT            101 non-null    float64\n",
      " 40  COOR_LON            101 non-null    float64\n",
      " 41  ESTADO_OPE          101 non-null    object \n",
      " 42  PAIS                101 non-null    object \n",
      " 43  DEPARTAMEN          101 non-null    object \n",
      " 44  MUNICIPIO           101 non-null    object \n",
      " 45  CODIGO_ARE          101 non-null    object \n",
      " 46  ZONA                101 non-null    object \n",
      " 47  CUENCA_HID          101 non-null    object \n",
      " 48  CALIFICACION        101 non-null    int64  \n",
      " 49  FECHA_CALIFICACION  101 non-null    object \n",
      "dtypes: float64(15), int64(5), object(30)\n",
      "memory usage: 39.6+ KB\n",
      "None\n"
     ]
    }
   ],
   "source": [
    "# Consolidar tramos de validacion\n",
    "\n",
    "df_tramos_validacion = df_tramos.merge(df_cctv_validacion, on='IPID')\n",
    "print(df_tramos_validacion.info())"
   ]
  },
  {
   "cell_type": "code",
   "execution_count": 6,
   "metadata": {
    "colab": {
     "base_uri": "https://localhost:8080/"
    },
    "executionInfo": {
     "elapsed": 229,
     "status": "ok",
     "timestamp": 1692844685294,
     "user": {
      "displayName": "Juan de Villeros",
      "userId": "10297202580344304481"
     },
     "user_tz": 300
    },
    "id": "WPUMc7gFJN9L",
    "outputId": "ad5c05cf-4fbb-48be-f31e-69fd81838655"
   },
   "outputs": [
    {
     "name": "stdout",
     "output_type": "stream",
     "text": [
      "Aplicando transformación: Depurar datos nulos         ... Terminada.\n",
      "Aplicando transformación: Convertir tipo de datos     ... Terminada.\n",
      "Aplicando transformación: Validar rango de datos      ... Terminada.\n",
      "Aplicando transformación: Unificar unidades a metros  ... Terminada.\n",
      "Aplicando transformación: Reasignar arranque          ... Terminada.\n",
      "Aplicando transformación: Reasignar tipo de agua      ... Terminada.\n",
      "Aplicando transformación: Reasignar materiales        ... Terminada.\n",
      "Aplicando transformación: Reasignar fabricantes       ... Terminada.\n",
      "Aplicando transformación: Reasignar zonas             ... Terminada.\n",
      "Aplicando transformación: Reasignar municipios        ... Terminada.\n",
      "Aplicando transformación: Reasignar estados           ... Terminada.\n",
      "Aplicando transformación: Agregar edad de tramos      ... Terminada.\n",
      "Aplicando transformación: Aregar área de tramos       ... Terminada.\n",
      "Aplicando transformación: Recalcular pendientes       ... Terminada.\n",
      "Aplicando transformación: Binarizar calificacion      ... Terminada.\n",
      "Aplicando transformación: Seleccionar columnas útiles ... Terminada.\n"
     ]
    }
   ],
   "source": [
    "# Aplicar secuencia de transformaciones\n",
    "\n",
    "df_validacion_preprocesados = tx_aplicar_transformaciones(df_tramos_validacion)"
   ]
  },
  {
   "cell_type": "code",
   "execution_count": 7,
   "metadata": {
    "colab": {
     "base_uri": "https://localhost:8080/"
    },
    "executionInfo": {
     "elapsed": 238,
     "status": "ok",
     "timestamp": 1692844688528,
     "user": {
      "displayName": "Juan de Villeros",
      "userId": "10297202580344304481"
     },
     "user_tz": 300
    },
    "id": "nSXIo8_PJjtd",
    "outputId": "ba6e298e-c2a0-4f85-e4dd-2c5c1710cdae"
   },
   "outputs": [
    {
     "name": "stdout",
     "output_type": "stream",
     "text": [
      "<class 'pandas.core.frame.DataFrame'>\n",
      "Index: 100 entries, 0 to 100\n",
      "Data columns (total 15 columns):\n",
      " #   Column              Non-Null Count  Dtype  \n",
      "---  ------              --------------  -----  \n",
      " 0   DETERIORADO         100 non-null    bool   \n",
      " 1   EDAD                100 non-null    float64\n",
      " 2   DIAMETRO            100 non-null    float64\n",
      " 3   LONGITUD            100 non-null    float64\n",
      " 4   AREA                100 non-null    float64\n",
      " 5   PROF_BATEA          100 non-null    float64\n",
      " 6   PROF_BATE1          100 non-null    float64\n",
      " 7   PENDIENTE           100 non-null    float64\n",
      " 8   TIPO_AGUA           100 non-null    object \n",
      " 9   MATERIAL            100 non-null    object \n",
      " 10  FABRICANTE          100 non-null    object \n",
      " 11  ARRANQUE            100 non-null    bool   \n",
      " 12  ZONA_SUR            100 non-null    bool   \n",
      " 13  MUNICIPIO_MEDELLIN  100 non-null    bool   \n",
      " 14  ESTADO_OPERACION    100 non-null    bool   \n",
      "dtypes: bool(5), float64(7), object(3)\n",
      "memory usage: 9.1+ KB\n",
      "None\n",
      "--------------------------------------------------------------------------------\n",
      "       DETERIORADO        EDAD    DIAMETRO   LONGITUD        AREA  PROF_BATEA  PROF_BATE1   PENDIENTE            TIPO_AGUA         MATERIAL             FABRICANTE ARRANQUE ZONA_SUR MUNICIPIO_MEDELLIN ESTADO_OPERACION\n",
      "count          100  100.000000  100.000000  100.00000  100.000000  100.000000  100.000000  100.000000                  100              100                    100      100      100                100              100\n",
      "unique           2         NaN         NaN        NaN         NaN         NaN         NaN         NaN                    3                3                      3        2        2                  2                2\n",
      "top           True         NaN         NaN        NaN         NaN         NaN         NaN         NaN  LLUVIAS Y DESCARGAS  CONCRETO SIMPLE  INDUSTRIAS DIQUE S.A.    False     True              False             True\n",
      "freq            53         NaN         NaN        NaN         NaN         NaN         NaN         NaN                   60               71                     69       85       87                 61               99\n",
      "mean           NaN   35.698097    0.507500   32.08350   46.054225    2.259600    1.762700    0.025567                  NaN              NaN                    NaN      NaN      NaN                NaN              NaN\n",
      "std            NaN   17.616060    0.254319   24.23135   39.797030    1.221734    1.362911    0.099361                  NaN              NaN                    NaN      NaN      NaN                NaN              NaN\n",
      "min            NaN    4.928131    0.200000    1.62000    1.709026    0.000000    0.000000   -0.330882                  NaN              NaN                    NaN      NaN      NaN                NaN              NaN\n",
      "25%            NaN   23.285421    0.300000   14.61500   17.312139    1.557500    0.582500   -0.002947                  NaN              NaN                    NaN      NaN      NaN                NaN              NaN\n",
      "50%            NaN   31.691992    0.425000   23.57000   38.179776    2.025000    1.760000    0.005753                  NaN              NaN                    NaN      NaN      NaN                NaN              NaN\n",
      "75%            NaN   53.407255    0.600000   46.91750   60.026411    2.970000    2.645000    0.047724                  NaN              NaN                    NaN      NaN      NaN                NaN              NaN\n",
      "max            NaN   63.474333    1.350000  109.23000  279.633162    5.950000    4.790000    0.595000                  NaN              NaN                    NaN      NaN      NaN                NaN              NaN\n",
      "--------------------------------------------------------------------------------\n",
      "   DETERIORADO       EDAD  DIAMETRO  LONGITUD       AREA  PROF_BATEA  PROF_BATE1  PENDIENTE   TIPO_AGUA                    MATERIAL             FABRICANTE  ARRANQUE  ZONA_SUR  MUNICIPIO_MEDELLIN  ESTADO_OPERACION\n",
      "0         True  30.075291      0.45     11.94  16.879777        2.42        2.02   0.033501  COMBINADAS             CONCRETO SIMPLE  INDUSTRIAS DIQUE S.A.     False      True                True             False\n",
      "1         True  27.030801      0.50     19.07  29.955086        1.80        1.69   0.005768  COMBINADAS             CONCRETO SIMPLE                  OTROS     False      True                True              True\n",
      "2        False   7.964408      1.20      9.64  36.341944        4.99        4.62   0.038382       OTRAS  CONCRETO REFORZADO Y OTROS                  OTROS     False      True               False              True\n",
      "3        False   7.964408      1.20     18.62  70.195746        4.63        4.79  -0.008593       OTRAS  CONCRETO REFORZADO Y OTROS                  OTROS     False      True               False              True\n",
      "4        False   7.969884      1.20      2.58   9.726371        4.98        4.79   0.073643       OTRAS  CONCRETO REFORZADO Y OTROS                  OTROS     False      True               False              True\n",
      "--------------------------------------------------------------------------------\n",
      "--------------------------------------------------------------------------------\n",
      "TIPO_AGUA\n",
      "TIPO_AGUA\n",
      "LLUVIAS Y DESCARGAS    60\n",
      "OTRAS                  26\n",
      "COMBINADAS             14\n",
      "Name: count, dtype: int64\n",
      "--------------------------------------------------------------------------------\n",
      "MATERIAL\n",
      "MATERIAL\n",
      "CONCRETO SIMPLE               71\n",
      "CONCRETO REFORZADO Y OTROS    27\n",
      "PVC                            2\n",
      "Name: count, dtype: int64\n",
      "--------------------------------------------------------------------------------\n",
      "FABRICANTE\n",
      "FABRICANTE\n",
      "INDUSTRIAS DIQUE S.A.       69\n",
      "OTROS                       29\n",
      "MEXICHEM COLOMBIA S.A.S.     2\n",
      "Name: count, dtype: int64\n"
     ]
    }
   ],
   "source": [
    "print(df_validacion_preprocesados.info())\n",
    "print('-'*80)\n",
    "print(df_validacion_preprocesados.describe(include='all'))\n",
    "print('-'*80)\n",
    "print(df_validacion_preprocesados.head())\n",
    "print('-'*80)\n",
    "\n",
    "columnas_categoricas = list(df_validacion_preprocesados.select_dtypes(include=['object']).columns)\n",
    "columnas_numericas = list(df_validacion_preprocesados.select_dtypes(include=['int', 'float']).columns)\n",
    "for columna in columnas_categoricas:\n",
    "    print('-' * 80)\n",
    "    print(columna)\n",
    "    print(df_validacion_preprocesados[columna].value_counts())\n"
   ]
  },
  {
   "cell_type": "code",
   "execution_count": 8,
   "metadata": {
    "colab": {
     "base_uri": "https://localhost:8080/"
    },
    "executionInfo": {
     "elapsed": 272,
     "status": "ok",
     "timestamp": 1692844697806,
     "user": {
      "displayName": "Juan de Villeros",
      "userId": "10297202580344304481"
     },
     "user_tz": 300
    },
    "id": "0RbSf8yyK-Uj",
    "outputId": "3794488b-e5c1-4ec9-d630-27c54754c6a6"
   },
   "outputs": [
    {
     "name": "stdout",
     "output_type": "stream",
     "text": [
      "<class 'pandas.core.frame.DataFrame'>\n",
      "Index: 100 entries, 0 to 100\n",
      "Data columns (total 21 columns):\n",
      " #   Column                               Non-Null Count  Dtype  \n",
      "---  ------                               --------------  -----  \n",
      " 0   DETERIORADO                          100 non-null    bool   \n",
      " 1   EDAD                                 100 non-null    float64\n",
      " 2   DIAMETRO                             100 non-null    float64\n",
      " 3   LONGITUD                             100 non-null    float64\n",
      " 4   AREA                                 100 non-null    float64\n",
      " 5   PROF_BATEA                           100 non-null    float64\n",
      " 6   PROF_BATE1                           100 non-null    float64\n",
      " 7   PENDIENTE                            100 non-null    float64\n",
      " 8   ARRANQUE                             100 non-null    bool   \n",
      " 9   ZONA_SUR                             100 non-null    bool   \n",
      " 10  MUNICIPIO_MEDELLIN                   100 non-null    bool   \n",
      " 11  ESTADO_OPERACION                     100 non-null    bool   \n",
      " 12  TIPO_AGUA_COMBINADAS                 100 non-null    bool   \n",
      " 13  TIPO_AGUA_LLUVIAS Y DESCARGAS        100 non-null    bool   \n",
      " 14  TIPO_AGUA_OTRAS                      100 non-null    bool   \n",
      " 15  MATERIAL_CONCRETO REFORZADO Y OTROS  100 non-null    bool   \n",
      " 16  MATERIAL_CONCRETO SIMPLE             100 non-null    bool   \n",
      " 17  MATERIAL_PVC                         100 non-null    bool   \n",
      " 18  FABRICANTE_INDUSTRIAS DIQUE S.A.     100 non-null    bool   \n",
      " 19  FABRICANTE_MEXICHEM COLOMBIA S.A.S.  100 non-null    bool   \n",
      " 20  FABRICANTE_OTROS                     100 non-null    bool   \n",
      "dtypes: bool(14), float64(7)\n",
      "memory usage: 7.6 KB\n",
      "None\n"
     ]
    }
   ],
   "source": [
    "df_validacion_codificados = tx_codificar(df_validacion_preprocesados)\n",
    "print(df_validacion_codificados.info())"
   ]
  },
  {
   "cell_type": "code",
   "execution_count": 9,
   "metadata": {
    "colab": {
     "base_uri": "https://localhost:8080/"
    },
    "executionInfo": {
     "elapsed": 814,
     "status": "ok",
     "timestamp": 1692840991801,
     "user": {
      "displayName": "Juan de Villeros",
      "userId": "10297202580344304481"
     },
     "user_tz": 300
    },
    "id": "ue17g5o0LYs2",
    "outputId": "6480fca1-4478-45c6-9c85-3838b5a1964d"
   },
   "outputs": [
    {
     "name": "stdout",
     "output_type": "stream",
     "text": [
      "XGBClassifier(base_score=None, booster=None, callbacks=None,\n",
      "              colsample_bylevel=None, colsample_bynode=None,\n",
      "              colsample_bytree=None, device='gpu', early_stopping_rounds=None,\n",
      "              enable_categorical=False, eval_metric='logloss',\n",
      "              feature_types=None, gamma=None, grow_policy=None,\n",
      "              importance_type=None, interaction_constraints=None,\n",
      "              learning_rate=0.01, max_bin=None, max_cat_threshold=None,\n",
      "              max_cat_to_onehot=None, max_delta_step=None, max_depth=3,\n",
      "              max_leaves=None, min_child_weight=0.05, missing=nan,\n",
      "              monotone_constraints=None, multi_strategy=None, n_estimators=None,\n",
      "              n_jobs=-1, num_parallel_tree=None, random_state=None, ...)\n"
     ]
    }
   ],
   "source": [
    "# Cargar modelo\n",
    "\n",
    "archivo_modelo = f'{DIRECTORIO_MODELOS}/modelo.joblib'\n",
    "modelo = joblib.load(archivo_modelo)\n",
    "print(modelo)"
   ]
  },
  {
   "cell_type": "code",
   "execution_count": 10,
   "metadata": {},
   "outputs": [
    {
     "name": "stdout",
     "output_type": "stream",
     "text": [
      "['EDAD', 'DIAMETRO', 'LONGITUD', 'AREA', 'PROF_BATEA', 'PROF_BATE1', 'PENDIENTE', 'ARRANQUE', 'ZONA_SUR', 'MUNICIPIO_MEDELLIN', 'ESTADO_OPERACION', 'TIPO_AGUA_COMBINADAS', 'TIPO_AGUA_LLUVIAS Y DESCARGAS', 'TIPO_AGUA_OTRAS', 'MATERIAL_CONCRETO REFORZADO Y OTROS', 'MATERIAL_CONCRETO SIMPLE', 'MATERIAL_PVC', 'FABRICANTE_INDUSTRIAS DIQUE S.A.', 'FABRICANTE_MEXICHEM COLOMBIA S.A.S.', 'FABRICANTE_OTROS']\n"
     ]
    }
   ],
   "source": [
    "# Cargar columnas\n",
    "\n",
    "columnas_modelo = []\n",
    "archivo_columnas = f'{DIRECTORIO_MODELOS}/COLUMNAS.txt'\n",
    "\n",
    "with open(archivo_columnas, \"r\") as archivo:\n",
    "    for linea in archivo:\n",
    "        cadena = linea.strip()\n",
    "        columnas_modelo.append(cadena)\n",
    "\n",
    "print(columnas_modelo)\n"
   ]
  },
  {
   "cell_type": "code",
   "execution_count": 11,
   "metadata": {
    "executionInfo": {
     "elapsed": 215,
     "status": "ok",
     "timestamp": 1692844703100,
     "user": {
      "displayName": "Juan de Villeros",
      "userId": "10297202580344304481"
     },
     "user_tz": 300
    },
    "id": "ZTogL9JZL8qN"
   },
   "outputs": [
    {
     "name": "stdout",
     "output_type": "stream",
     "text": [
      "<class 'pandas.core.frame.DataFrame'>\n",
      "Index: 100 entries, 0 to 100\n",
      "Data columns (total 20 columns):\n",
      " #   Column                               Non-Null Count  Dtype  \n",
      "---  ------                               --------------  -----  \n",
      " 0   EDAD                                 100 non-null    float64\n",
      " 1   DIAMETRO                             100 non-null    float64\n",
      " 2   LONGITUD                             100 non-null    float64\n",
      " 3   AREA                                 100 non-null    float64\n",
      " 4   PROF_BATEA                           100 non-null    float64\n",
      " 5   PROF_BATE1                           100 non-null    float64\n",
      " 6   PENDIENTE                            100 non-null    float64\n",
      " 7   ARRANQUE                             100 non-null    bool   \n",
      " 8   ZONA_SUR                             100 non-null    bool   \n",
      " 9   MUNICIPIO_MEDELLIN                   100 non-null    bool   \n",
      " 10  ESTADO_OPERACION                     100 non-null    bool   \n",
      " 11  TIPO_AGUA_COMBINADAS                 100 non-null    bool   \n",
      " 12  TIPO_AGUA_LLUVIAS Y DESCARGAS        100 non-null    bool   \n",
      " 13  TIPO_AGUA_OTRAS                      100 non-null    bool   \n",
      " 14  MATERIAL_CONCRETO REFORZADO Y OTROS  100 non-null    bool   \n",
      " 15  MATERIAL_CONCRETO SIMPLE             100 non-null    bool   \n",
      " 16  MATERIAL_PVC                         100 non-null    bool   \n",
      " 17  FABRICANTE_INDUSTRIAS DIQUE S.A.     100 non-null    bool   \n",
      " 18  FABRICANTE_MEXICHEM COLOMBIA S.A.S.  100 non-null    bool   \n",
      " 19  FABRICANTE_OTROS                     100 non-null    bool   \n",
      "dtypes: bool(13), float64(7)\n",
      "memory usage: 7.5 KB\n",
      "None\n"
     ]
    }
   ],
   "source": [
    "# Seleccionar columnas\n",
    "\n",
    "X_validacion = df_validacion_codificados.drop('DETERIORADO', axis='columns')\n",
    "Y_validacion = df_validacion_codificados['DETERIORADO']\n",
    "\n",
    "# Agregar columnas faltantes\n",
    "for col in columnas_modelo:\n",
    "    if col not in X_validacion.columns:\n",
    "        print(f'Agregando {col}')\n",
    "        X_validacion[col] = False\n",
    "\n",
    "# Reordenar columnas\n",
    "X_validacion = X_validacion[columnas_modelo]\n",
    "\n",
    "print(X_validacion.info())"
   ]
  },
  {
   "cell_type": "code",
   "execution_count": 14,
   "metadata": {
    "executionInfo": {
     "elapsed": 215,
     "status": "ok",
     "timestamp": 1692844703100,
     "user": {
      "displayName": "Juan de Villeros",
      "userId": "10297202580344304481"
     },
     "user_tz": 300
    },
    "id": "ZTogL9JZL8qN"
   },
   "outputs": [],
   "source": [
    "# Efectuar predicción\n",
    "\n",
    "y_pred = modelo.predict(X_validacion)"
   ]
  },
  {
   "cell_type": "code",
   "execution_count": 13,
   "metadata": {
    "colab": {
     "base_uri": "https://localhost:8080/",
     "height": 363
    },
    "executionInfo": {
     "elapsed": 1402,
     "status": "ok",
     "timestamp": 1692844722275,
     "user": {
      "displayName": "Juan de Villeros",
      "userId": "10297202580344304481"
     },
     "user_tz": 300
    },
    "id": "VctaMm_FM3eV",
    "outputId": "60c9f527-3e98-486c-aaad-b562967a94a8"
   },
   "outputs": [
    {
     "name": "stdout",
     "output_type": "stream",
     "text": [
      "              precision    recall  f1-score   support\n",
      "\n",
      "       False       0.67      0.21      0.32        47\n",
      "        True       0.56      0.91      0.70        53\n",
      "\n",
      "    accuracy                           0.58       100\n",
      "   macro avg       0.62      0.56      0.51       100\n",
      "weighted avg       0.61      0.58      0.52       100\n",
      "\n"
     ]
    },
    {
     "data": {
      "image/png": "[encoded data removed]",
      "text/plain": [
       "<Figure size 800x200 with 1 Axes>"
      ]
     },
     "metadata": {},
     "output_type": "display_data"
    }
   ],
   "source": [
    "# Evaluar prediccion\n",
    "\n",
    "print(classification_report(Y_validacion, y_pred))\n",
    "conf_matrix = confusion_matrix(Y_validacion, y_pred)\n",
    "class_names = [False, True]\n",
    "plt.figure(figsize=(8, 2))\n",
    "plt.subplot(1, 2, 1)\n",
    "sns.heatmap(conf_matrix, annot=True, fmt='d', cmap='Greens', cbar=False, xticklabels=class_names, yticklabels=class_names)\n",
    "plt.xlabel('Predicción deterioro', fontweight='bold')\n",
    "plt.ylabel('Real', fontweight='bold')\n",
    "plt.title('Matriz de confusión - Datos de validación', fontsize=10, fontweight='bold')\n",
    "plt.tight_layout()\n",
    "plt.show()"
   ]
  }
 ],
 "metadata": {
  "colab": {
   "authorship_tag": "ABX9TyPpP8YZAu8/qiWbnIAsm5+N",
   "provenance": []
  },
  "kernelspec": {
   "display_name": "Python 3 (ipykernel)",
   "language": "python",
   "name": "python3"
  },
  "language_info": {
   "codemirror_mode": {
    "name": "ipython",
    "version": 3
   },
   "file_extension": ".py",
   "mimetype": "text/x-python",
   "name": "python",
   "nbconvert_exporter": "python",
   "pygments_lexer": "ipython3",
   "version": "3.12.5"
  }
 },
 "nbformat": 4,
 "nbformat_minor": 4
}
