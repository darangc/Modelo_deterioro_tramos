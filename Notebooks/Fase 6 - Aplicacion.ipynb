{
 "cells": [
  {
   "cell_type": "markdown",
   "id": "d4d929d0-ce0e-4f60-8d29-564d21b8af68",
   "metadata": {},
   "source": [
    "# Aplicación de prueba"
   ]
  },
  {
   "cell_type": "code",
   "execution_count": 15,
   "id": "d6407c28-8a72-40d4-9c10-9f8e3cd18c34",
   "metadata": {},
   "outputs": [],
   "source": [
    "import pandas as pd\n",
    "import joblib\n",
    "\n",
    "from datetime import datetime\n",
    "from flask import Flask, request\n"
   ]
  },
  {
   "cell_type": "code",
   "execution_count": null,
   "id": "c1eac61f-4d4d-4edc-86c9-f5b89a427db9",
   "metadata": {},
   "outputs": [],
   "source": [
    "# Definiciones globales y funciones de transformación\n",
    "\n",
    "%run ../Lib/pandas_options.py\n",
    "%run ../Lib/define_constantes.py\n",
    "%run ../Lib/fn_transformaciones.py\n"
   ]
  },
  {
   "cell_type": "code",
   "execution_count": null,
   "id": "5becfbe4-6a8a-4dc1-9033-2d9a5219df21",
   "metadata": {},
   "outputs": [],
   "source": [
    "# Cargar archivo de tramos\n",
    "\n",
    "archivo_tramos = f'{DIRECTORIO_DATOS}/DATOSTRAMOS_2023-08-06.csv'\n",
    "df_tramos = pd.read_csv(archivo_tramos, low_memory=False)\n",
    "\n",
    "print(df_tramos.info())"
   ]
  },
  {
   "cell_type": "code",
   "execution_count": null,
   "id": "66636b35-7e13-4f0c-901b-bebee75717db",
   "metadata": {},
   "outputs": [],
   "source": [
    "# Cargar modelo\n",
    "\n",
    "archivo_modelo = f'{DIRECTORIO_MODELOS}/modelo.joblib'\n",
    "modelo = joblib.load(archivo_modelo)\n",
    "\n",
    "print(modelo)"
   ]
  },
  {
   "cell_type": "code",
   "execution_count": null,
   "id": "c0d2c6c2-b47e-42d3-b0cf-df0109693b6c",
   "metadata": {},
   "outputs": [],
   "source": [
    "# Cargar columnas\n",
    "\n",
    "columnas_modelo = []\n",
    "archivo_columnas = f'{DIRECTORIO_MODELOS}/COLUMNAS.txt'\n",
    "\n",
    "with open(archivo_columnas, \"r\") as archivo:\n",
    "    for linea in archivo:\n",
    "        cadena = linea.strip()\n",
    "        columnas_modelo.append(cadena)\n",
    "\n",
    "print(columnas_modelo)\n"
   ]
  },
  {
   "cell_type": "code",
   "execution_count": 6,
   "id": "3aea86c5-967f-4f71-a9b2-9515c3aae004",
   "metadata": {},
   "outputs": [],
   "source": [
    "# Generar predicción\n",
    "\n",
    "def generar_prediccion(ipid):\n",
    "\n",
    "    df_predecir = df_tramos[df_tramos['IPID'] == ipid].copy()\n",
    "\n",
    "    # Agregar columnas dummy para codificacion\n",
    "    df_predecir['CALIFICACION'] = 1 # Irrelevante, no se usa pero es requerido para transformacion\n",
    "    df_predecir['FECHA_CALIFICACION'] = datetime.now()\n",
    "  \n",
    "    X_predecir = tx_codificar(tx_aplicar_transformaciones(df_predecir))\n",
    "\n",
    "    # Agregar columnas faltantes\n",
    "    for col in columnas_modelo:\n",
    "        if col not in X_predecir.columns:\n",
    "            print(f'Agregando {col}')\n",
    "            X_predecir[col] = False\n",
    "    \n",
    "    # Reordenar columnas\n",
    "    X_predecir = X_predecir[columnas_modelo]\n",
    "    \n",
    "    probabilidades = modelo.predict_proba(X_predecir)\n",
    "    probabilidad_deterioro = probabilidades[:, 1]\n",
    "        \n",
    "    return f'Probabilidad de estado DETERIORADO en tramo {ipid}: {probabilidad_deterioro[0]:.2%}'\n",
    "    "
   ]
  },
  {
   "cell_type": "code",
   "execution_count": 7,
   "id": "c62bd104-82b0-4111-9fdf-d39d07fc0f1a",
   "metadata": {},
   "outputs": [],
   "source": [
    "# Generar mensaje de respuesta\n",
    "\n",
    "def generar_respuesta(texto_consulta):\n",
    "    try:\n",
    "        ipid = int(texto_consulta)\n",
    "    except ValueError:\n",
    "        return 'IPID debe ser numérico'\n",
    "        \n",
    "    if ipid in df_tramos['IPID'].values:\n",
    "        return generar_prediccion(ipid)\n",
    "    else:\n",
    "        return f\"No encuentro tramo {ipid} en archivo de tramos\"\n",
    "    "
   ]
  },
  {
   "cell_type": "code",
   "execution_count": null,
   "id": "1e60a5f5-ec36-40f6-b843-a59315a92c5b",
   "metadata": {},
   "outputs": [],
   "source": [
    "# Prototipo de servicio de consulta\n",
    "\n",
    "app = Flask(__name__)\n",
    "\n",
    "@app.route('/', methods=['GET', 'POST'])\n",
    "def predecir():\n",
    "    if request.method == 'POST':\n",
    "        texto_consulta = request.form['ipid']\n",
    "        mensaje = generar_respuesta(texto_consulta)\n",
    "        return f'''\n",
    "        <p>{mensaje}</p>\n",
    "        <form method=\"GET\">\n",
    "            <input type=\"submit\" value=\"Consultar otro IPID\">\n",
    "        </form>\n",
    "        '''\n",
    "    else:\n",
    "        return '''\n",
    "        <h1>PREDICCIÓN DE ESTADO DE TRAMOS DE TUBERÍA</h1>\n",
    "        <form method=\"POST\">\n",
    "            <label for=\"ipid\">Ingresa el IPID del tramo:</label>\n",
    "            <input type=\"text\" id=\"ipid\" name=\"ipid\" required>\n",
    "            <input type=\"submit\" value=\"Enviar\">\n",
    "        </form>\n",
    "        '''\n",
    "\n",
    "if __name__ == '__main__':\n",
    "    app.run()\n",
    "\n"
   ]
  }
 ],
 "metadata": {
  "kernelspec": {
   "display_name": ".venv",
   "language": "python",
   "name": "python3"
  },
  "language_info": {
   "codemirror_mode": {
    "name": "ipython",
    "version": 3
   },
   "file_extension": ".py",
   "mimetype": "text/x-python",
   "name": "python",
   "nbconvert_exporter": "python",
   "pygments_lexer": "ipython3",
   "version": "3.12.7"
  }
 },
 "nbformat": 4,
 "nbformat_minor": 5
}
