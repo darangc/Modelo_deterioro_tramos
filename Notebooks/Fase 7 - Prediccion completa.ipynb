{
 "cells": [
  {
   "cell_type": "markdown",
   "id": "161d240d-94eb-4f46-a90b-892b5411b1cf",
   "metadata": {},
   "source": [
    "# Predicción completa"
   ]
  },
  {
   "cell_type": "code",
   "execution_count": 1,
   "id": "3ce556fc-27a7-405d-b394-452222545529",
   "metadata": {},
   "outputs": [],
   "source": [
    "import pandas as pd\n",
    "import seaborn as sns\n",
    "import matplotlib.pyplot as plt\n",
    "\n",
    "import joblib\n",
    "\n",
    "from datetime import datetime\n"
   ]
  },
  {
   "cell_type": "code",
   "execution_count": null,
   "id": "a2805d2a-21e7-4798-970b-5d4af9eb9758",
   "metadata": {},
   "outputs": [],
   "source": [
    "# Definiciones globales y funciones de transformación\n",
    "\n",
    "%run ../Lib/pandas_options.py\n",
    "%run ../Lib/define_constantes.py\n",
    "%run ../Lib/fn_transformaciones.py\n"
   ]
  },
  {
   "cell_type": "code",
   "execution_count": null,
   "id": "81783f9b-6f7c-4adb-a564-04fd3ec0c331",
   "metadata": {},
   "outputs": [],
   "source": [
    "# Cargar archivo de tramos\n",
    "\n",
    "archivo_tramos = f'{DIRECTORIO_DATOS}/DATOSTRAMOS_2023-08-06.csv'\n",
    "df_tramos = pd.read_csv(archivo_tramos, low_memory=False)\n",
    "\n",
    "print(df_tramos.info())\n"
   ]
  },
  {
   "cell_type": "code",
   "execution_count": null,
   "id": "91af5e32-8210-4f9a-a3c1-e15c9f4d8035",
   "metadata": {},
   "outputs": [],
   "source": [
    "# Cargar modelo\n",
    "\n",
    "archivo_modelo = f'{DIRECTORIO_MODELOS}/modelo.joblib'\n",
    "modelo = joblib.load(archivo_modelo)\n",
    "print(modelo)\n"
   ]
  },
  {
   "cell_type": "code",
   "execution_count": null,
   "id": "4cd6b737-8a2a-4a28-ab67-4f52bf55b54e",
   "metadata": {},
   "outputs": [],
   "source": [
    "# Cargar columnas\n",
    "\n",
    "columnas_modelo = []\n",
    "archivo_columnas = f'{DIRECTORIO_MODELOS}/COLUMNAS.txt'\n",
    "\n",
    "with open(archivo_columnas, \"r\") as archivo:\n",
    "    for linea in archivo:\n",
    "        cadena = linea.strip()\n",
    "        columnas_modelo.append(cadena)\n",
    "\n",
    "print(columnas_modelo)\n"
   ]
  },
  {
   "cell_type": "code",
   "execution_count": null,
   "id": "c5d34160-9830-474a-b79f-ccbc3bca7352",
   "metadata": {},
   "outputs": [],
   "source": [
    "# Generar set de datos\n",
    "\n",
    "df_predecir = df_tramos.copy()\n",
    "\n",
    "# Agregar columnas dummy para codificacion\n",
    "df_predecir['CALIFICACION'] = 1 # Irrelevante, no se usa pero es requerido para transformacion\n",
    "df_predecir['FECHA_CALIFICACION'] = datetime.now()\n",
    "\n",
    "X_predecir = tx_codificar(tx_aplicar_transformaciones(df_predecir))\n",
    "\n",
    "# Agregar columnas faltantes\n",
    "for col in columnas_modelo:\n",
    "    if col not in X_predecir.columns:\n",
    "        print(f'Agregando {col}')\n",
    "        X_predecir[col] = False\n",
    "\n",
    "# Reordenar columnas\n",
    "X_predecir = X_predecir[columnas_modelo]\n",
    "\n",
    "# Obtener tramos asociados\n",
    "ipids = df_predecir.loc[df_predecir.index.isin(X_predecir.index)]['IPID']\n",
    "\n",
    "print(X_predecir.info())\n",
    "#print(df_ipids.info())"
   ]
  },
  {
   "cell_type": "code",
   "execution_count": null,
   "id": "91d5a94c-be9d-4e9e-b96e-01eaf1129997",
   "metadata": {},
   "outputs": [],
   "source": [
    "# Calcular probabilidades\n",
    "\n",
    "probabilidades = modelo.predict_proba(X_predecir)\n",
    "probabilidades_deterioro = probabilidades[:, 1]\n",
    "\n",
    "df_probabilidades = pd.DataFrame({'IPID': ipids, 'PROBABILIDAD_DETERIORO': probabilidades_deterioro}).sort_values(by='PROBABILIDAD_DETERIORO', ascending=False) \n",
    "\n",
    "print(df_probabilidades)\n"
   ]
  },
  {
   "cell_type": "code",
   "execution_count": 8,
   "id": "ded404c5-3c35-4ead-b72d-f929e6d11a34",
   "metadata": {},
   "outputs": [],
   "source": [
    "# Guardar reporte\n",
    "\n",
    "archivo_predicciones_completo = f'{DIRECTORIO_RESULTADOS}/PREDICCIONES_COMPLETAS.csv'\n",
    "\n",
    "df_probabilidades.to_csv(archivo_predicciones_completo, index=False)"
   ]
  },
  {
   "cell_type": "code",
   "execution_count": null,
   "id": "6f9deb7c-f9a7-4278-a58c-dbb4de71dd82",
   "metadata": {},
   "outputs": [],
   "source": [
    "sns.kdeplot(data=df_probabilidades, x='PROBABILIDAD_DETERIORO', fill=True)\n",
    "plt.xlabel('Probabilidad de Deterioro')\n",
    "plt.ylabel('Densidad')\n",
    "plt.title('Gráfico de Densidad de Probabilidad de Deterioro')\n",
    "plt.show()\n"
   ]
  },
  {
   "cell_type": "code",
   "execution_count": null,
   "id": "055db56c-52e1-4c7e-92fa-52796663c332",
   "metadata": {},
   "outputs": [],
   "source": [
    "sns.boxplot(data=df_probabilidades, x='PROBABILIDAD_DETERIORO')\n",
    "plt.xlabel('Probabilidad de Deterioro')\n",
    "plt.title('Box Plot de Probabilidad de Deterioro')\n",
    "plt.show()\n"
   ]
  }
 ],
 "metadata": {
  "kernelspec": {
   "display_name": "Python 3 (ipykernel)",
   "language": "python",
   "name": "python3"
  },
  "language_info": {
   "codemirror_mode": {
    "name": "ipython",
    "version": 3
   },
   "file_extension": ".py",
   "mimetype": "text/x-python",
   "name": "python",
   "nbconvert_exporter": "python",
   "pygments_lexer": "ipython3",
   "version": "3.12.5"
  }
 },
 "nbformat": 4,
 "nbformat_minor": 5
}
