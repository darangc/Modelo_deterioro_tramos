{
 "cells": [
  {
   "cell_type": "markdown",
   "id": "161d240d-94eb-4f46-a90b-892b5411b1cf",
   "metadata": {},
   "source": [
    "# Predicción completa"
   ]
  },
  {
   "cell_type": "code",
   "execution_count": 1,
   "id": "3ce556fc-27a7-405d-b394-452222545529",
   "metadata": {},
   "outputs": [],
   "source": [
    "import pandas as pd\n",
    "import seaborn as sns\n",
    "import matplotlib.pyplot as plt\n",
    "\n",
    "import joblib\n",
    "\n",
    "from datetime import datetime\n"
   ]
  },
  {
   "cell_type": "code",
   "execution_count": 2,
   "id": "a2805d2a-21e7-4798-970b-5d4af9eb9758",
   "metadata": {},
   "outputs": [
    {
     "name": "stdout",
     "output_type": "stream",
     "text": [
      "Fecha y Hora de ejecución de módulo: 2024-10-10 15:03:16\n"
     ]
    }
   ],
   "source": [
    "# Definiciones globales y funciones de transformación\n",
    "\n",
    "%run ../Lib/pandas_options.py\n",
    "%run ../Lib/define_constantes.py\n",
    "%run ../Lib/fn_transformaciones.py\n"
   ]
  },
  {
   "cell_type": "code",
   "execution_count": 3,
   "id": "81783f9b-6f7c-4adb-a564-04fd3ec0c331",
   "metadata": {},
   "outputs": [
    {
     "name": "stdout",
     "output_type": "stream",
     "text": [
      "<class 'pandas.core.frame.DataFrame'>\n",
      "RangeIndex: 205754 entries, 0 to 205753\n",
      "Data columns (total 48 columns):\n",
      " #   Column      Non-Null Count   Dtype  \n",
      "---  ------      --------------   -----  \n",
      " 0   DIAMETRO    205754 non-null  int64  \n",
      " 1   CAMARA_CAI  205754 non-null  object \n",
      " 2   CONEXIONES  97049 non-null   object \n",
      " 3   MATERIAL    205377 non-null  object \n",
      " 4   TUBERIA_EL  197356 non-null  object \n",
      " 5   VIDA_UTIL   195982 non-null  float64\n",
      " 6   FABRICANTE  190888 non-null  object \n",
      " 7   TIPO_CIMEN  83807 non-null   object \n",
      " 8   TIPO_SUELO  65523 non-null   object \n",
      " 9   TIPO_RED    205754 non-null  object \n",
      " 10  PROF_BATEA  204504 non-null  float64\n",
      " 11  PROF_BATE1  204369 non-null  float64\n",
      " 12  COTA_BATEA  202933 non-null  float64\n",
      " 13  COTA_BATE1  202919 non-null  float64\n",
      " 14  IPID        205754 non-null  int64  \n",
      " 15  ESTADO      205754 non-null  object \n",
      " 16  GRUPO       205754 non-null  object \n",
      " 17  PROPIETARI  205734 non-null  object \n",
      " 18  OPERADOR    205512 non-null  object \n",
      " 19  EMPRESA     205754 non-null  object \n",
      " 20  COD_MUNICI  205754 non-null  int64  \n",
      " 21  COD_DEPART  205754 non-null  int64  \n",
      " 22  COD_PAIS    205752 non-null  float64\n",
      " 23  LONGITUD    205754 non-null  float64\n",
      " 24  ARRANQUE    205630 non-null  object \n",
      " 25  TIPO_AGUA   205754 non-null  object \n",
      " 26  CUENCA      204712 non-null  object \n",
      " 27  CONDICION_  80128 non-null   object \n",
      " 28  DIAMETRO_I  135311 non-null  float64\n",
      " 29  MATERIAL_R  851 non-null     object \n",
      " 30  NOMBRE_COL  17005 non-null   object \n",
      " 31  PENDIENTE   202584 non-null  float64\n",
      " 32  PROFUNDIDA  118411 non-null  float64\n",
      " 33  CAUDAL_TUB  169451 non-null  float64\n",
      " 34  CAUDAL_DIS  179317 non-null  float64\n",
      " 35  COEFICIENT  190038 non-null  float64\n",
      " 36  OBSERVACIO  106517 non-null  object \n",
      " 37  UBICACION   9407 non-null    object \n",
      " 38  FECHA_INST  190115 non-null  object \n",
      " 39  COOR_LAT    205532 non-null  float64\n",
      " 40  COOR_LON    205532 non-null  float64\n",
      " 41  ESTADO_OPE  205754 non-null  object \n",
      " 42  PAIS        205754 non-null  object \n",
      " 43  DEPARTAMEN  205754 non-null  object \n",
      " 44  MUNICIPIO   205754 non-null  object \n",
      " 45  CODIGO_ARE  203569 non-null  object \n",
      " 46  ZONA        203569 non-null  object \n",
      " 47  CUENCA_HID  204637 non-null  object \n",
      "dtypes: float64(15), int64(4), object(29)\n",
      "memory usage: 75.3+ MB\n",
      "None\n"
     ]
    }
   ],
   "source": [
    "# Cargar archivo de tramos\n",
    "\n",
    "archivo_tramos = f'{DIRECTORIO_DATOS}/DATOSTRAMOS_2023-08-06.csv'\n",
    "df_tramos = pd.read_csv(archivo_tramos, low_memory=False)\n",
    "\n",
    "print(df_tramos.info())\n"
   ]
  },
  {
   "cell_type": "code",
   "execution_count": 4,
   "id": "91af5e32-8210-4f9a-a3c1-e15c9f4d8035",
   "metadata": {},
   "outputs": [
    {
     "name": "stdout",
     "output_type": "stream",
     "text": [
      "HistGradientBoostingClassifier(class_weight={False: 0.6978099115541204,\n",
      "                                             True: 1},\n",
      "                               early_stopping=False, l2_regularization=1,\n",
      "                               learning_rate=0.015, max_leaf_nodes=63,\n",
      "                               min_samples_leaf=5)\n"
     ]
    }
   ],
   "source": [
    "# Cargar modelo\n",
    "\n",
    "archivo_modelo = f'{DIRECTORIO_MODELOS}/modelo.joblib'\n",
    "modelo = joblib.load(archivo_modelo)\n",
    "print(modelo)\n"
   ]
  },
  {
   "cell_type": "code",
   "execution_count": 5,
   "id": "4cd6b737-8a2a-4a28-ab67-4f52bf55b54e",
   "metadata": {},
   "outputs": [
    {
     "name": "stdout",
     "output_type": "stream",
     "text": [
      "['EDAD', 'DIAMETRO', 'LONGITUD', 'AREA', 'PROF_BATEA', 'PROF_BATE1', 'PENDIENTE', 'ARRANQUE', 'ZONA_SUR', 'MUNICIPIO_MEDELLIN', 'ESTADO_OPERACION', 'TIPO_AGUA_COMBINADAS', 'TIPO_AGUA_LLUVIAS Y DESCARGAS', 'TIPO_AGUA_OTRAS', 'MATERIAL_CONCRETO REFORZADO Y OTROS', 'MATERIAL_CONCRETO SIMPLE', 'MATERIAL_PVC', 'FABRICANTE_INDUSTRIAS DIQUE S.A.', 'FABRICANTE_MEXICHEM COLOMBIA S.A.S.', 'FABRICANTE_OTROS']\n"
     ]
    }
   ],
   "source": [
    "# Cargar columnas\n",
    "\n",
    "columnas_modelo = []\n",
    "archivo_columnas = f'{DIRECTORIO_MODELOS}/COLUMNAS.txt'\n",
    "\n",
    "with open(archivo_columnas, \"r\") as archivo:\n",
    "    for linea in archivo:\n",
    "        cadena = linea.strip()\n",
    "        columnas_modelo.append(cadena)\n",
    "\n",
    "print(columnas_modelo)\n"
   ]
  },
  {
   "cell_type": "code",
   "execution_count": 6,
   "id": "c5d34160-9830-474a-b79f-ccbc3bca7352",
   "metadata": {},
   "outputs": [
    {
     "name": "stdout",
     "output_type": "stream",
     "text": [
      "Aplicando transformación: Depurar datos nulos         ... Terminada.\n",
      "Aplicando transformación: Convertir tipo de datos     ... Terminada.\n",
      "Aplicando transformación: Validar rango de datos      ... Terminada.\n",
      "Aplicando transformación: Unificar unidades a metros  ... Terminada.\n",
      "Aplicando transformación: Reasignar arranque          ... Terminada.\n",
      "Aplicando transformación: Reasignar tipo de agua      ... Terminada.\n",
      "Aplicando transformación: Reasignar materiales        ... Terminada.\n",
      "Aplicando transformación: Reasignar fabricantes       ... Terminada.\n",
      "Aplicando transformación: Reasignar zonas             ... Terminada.\n",
      "Aplicando transformación: Reasignar municipios        ... Terminada.\n",
      "Aplicando transformación: Reasignar estados           ... Terminada.\n",
      "Aplicando transformación: Agregar edad de tramos      ... Terminada.\n",
      "Aplicando transformación: Aregar área de tramos       ... Terminada.\n",
      "Aplicando transformación: Recalcular pendientes       ... Terminada.\n",
      "Aplicando transformación: Binarizar calificacion      ... Terminada.\n",
      "Aplicando transformación: Seleccionar columnas útiles ... Terminada.\n",
      "Aplicando transformación: Normalizar numéricas        ... Terminada.\n",
      "<class 'pandas.core.frame.DataFrame'>\n",
      "Index: 187870 entries, 2 to 205753\n",
      "Data columns (total 20 columns):\n",
      " #   Column                               Non-Null Count   Dtype  \n",
      "---  ------                               --------------   -----  \n",
      " 0   EDAD                                 187870 non-null  float64\n",
      " 1   DIAMETRO                             187870 non-null  float64\n",
      " 2   LONGITUD                             187870 non-null  float64\n",
      " 3   AREA                                 187870 non-null  float64\n",
      " 4   PROF_BATEA                           187870 non-null  float64\n",
      " 5   PROF_BATE1                           187870 non-null  float64\n",
      " 6   PENDIENTE                            187870 non-null  float64\n",
      " 7   ARRANQUE                             187870 non-null  bool   \n",
      " 8   ZONA_SUR                             187870 non-null  bool   \n",
      " 9   MUNICIPIO_MEDELLIN                   187870 non-null  bool   \n",
      " 10  ESTADO_OPERACION                     187870 non-null  bool   \n",
      " 11  TIPO_AGUA_COMBINADAS                 187870 non-null  bool   \n",
      " 12  TIPO_AGUA_LLUVIAS Y DESCARGAS        187870 non-null  bool   \n",
      " 13  TIPO_AGUA_OTRAS                      187870 non-null  bool   \n",
      " 14  MATERIAL_CONCRETO REFORZADO Y OTROS  187870 non-null  bool   \n",
      " 15  MATERIAL_CONCRETO SIMPLE             187870 non-null  bool   \n",
      " 16  MATERIAL_PVC                         187870 non-null  bool   \n",
      " 17  FABRICANTE_INDUSTRIAS DIQUE S.A.     187870 non-null  bool   \n",
      " 18  FABRICANTE_MEXICHEM COLOMBIA S.A.S.  187870 non-null  bool   \n",
      " 19  FABRICANTE_OTROS                     187870 non-null  bool   \n",
      "dtypes: bool(13), float64(7)\n",
      "memory usage: 13.8 MB\n",
      "None\n"
     ]
    }
   ],
   "source": [
    "# Generar set de datos\n",
    "\n",
    "df_predecir = df_tramos.copy()\n",
    "\n",
    "# Agregar columnas dummy para codificacion\n",
    "df_predecir['CALIFICACION'] = 1 # Irrelevante, no se usa pero es requerido para transformacion\n",
    "df_predecir['FECHA_CALIFICACION'] = datetime.now()\n",
    "\n",
    "X_predecir = tx_codificar(tx_aplicar_transformaciones(df_predecir))\n",
    "\n",
    "# Agregar columnas faltantes\n",
    "for col in columnas_modelo:\n",
    "    if col not in X_predecir.columns:\n",
    "        print(f'Agregando {col}')\n",
    "        X_predecir[col] = False\n",
    "\n",
    "# Reordenar columnas\n",
    "X_predecir = X_predecir[columnas_modelo]\n",
    "\n",
    "# Obtener tramos asociados\n",
    "ipids = df_predecir.loc[df_predecir.index.isin(X_predecir.index)]['IPID']\n",
    "\n",
    "print(X_predecir.info())\n",
    "#print(df_ipids.info())"
   ]
  },
  {
   "cell_type": "code",
   "execution_count": 7,
   "id": "91d5a94c-be9d-4e9e-b96e-01eaf1129997",
   "metadata": {},
   "outputs": [
    {
     "name": "stdout",
     "output_type": "stream",
     "text": [
      "            IPID  PROBABILIDAD_DETERIORO\n",
      "3268     6053340                0.820795\n",
      "177749   6341758                0.820795\n",
      "150226   6264230                0.820795\n",
      "150292   6264293                0.820795\n",
      "40192    6111707                0.820795\n",
      "...          ...                     ...\n",
      "22345    9538464                0.169173\n",
      "10545    9952645                0.169173\n",
      "23076    9918486                0.169173\n",
      "37787    9989116                0.169173\n",
      "40143   10230900                0.169173\n",
      "\n",
      "[187870 rows x 2 columns]\n"
     ]
    }
   ],
   "source": [
    "# Calcular probabilidades\n",
    "\n",
    "probabilidades = modelo.predict_proba(X_predecir)\n",
    "probabilidades_deterioro = probabilidades[:, 1]\n",
    "\n",
    "df_probabilidades = pd.DataFrame({'IPID': ipids, 'PROBABILIDAD_DETERIORO': probabilidades_deterioro}).sort_values(by='PROBABILIDAD_DETERIORO', ascending=False) \n",
    "\n",
    "print(df_probabilidades)\n"
   ]
  },
  {
   "cell_type": "code",
   "execution_count": 8,
   "id": "ded404c5-3c35-4ead-b72d-f929e6d11a34",
   "metadata": {},
   "outputs": [],
   "source": [
    "# Guardar reporte\n",
    "\n",
    "archivo_predicciones_completo = f'{DIRECTORIO_RESULTADOS}/PREDICCIONES_COMPLETAS.csv'\n",
    "\n",
    "df_probabilidades.to_csv(archivo_predicciones_completo, index=False)"
   ]
  },
  {
   "cell_type": "code",
   "execution_count": 9,
   "id": "6f9deb7c-f9a7-4278-a58c-dbb4de71dd82",
   "metadata": {},
   "outputs": [
    {
     "data": {
      "image/png": "[encoded data removed]",
      "text/plain": [
       "<Figure size 640x480 with 1 Axes>"
      ]
     },
     "metadata": {},
     "output_type": "display_data"
    }
   ],
   "source": [
    "sns.kdeplot(data=df_probabilidades, x='PROBABILIDAD_DETERIORO', fill=True)\n",
    "plt.xlabel('Probabilidad de Deterioro')\n",
    "plt.ylabel('Densidad')\n",
    "plt.title('Gráfico de Densidad de Probabilidad de Deterioro')\n",
    "plt.show()\n"
   ]
  },
  {
   "cell_type": "code",
   "execution_count": 10,
   "id": "055db56c-52e1-4c7e-92fa-52796663c332",
   "metadata": {},
   "outputs": [
    {
     "data": {
      "image/png": "[encoded data removed]",
      "text/plain": [
       "<Figure size 640x480 with 1 Axes>"
      ]
     },
     "metadata": {},
     "output_type": "display_data"
    }
   ],
   "source": [
    "sns.boxplot(data=df_probabilidades, x='PROBABILIDAD_DETERIORO')\n",
    "plt.xlabel('Probabilidad de Deterioro')\n",
    "plt.title('Box Plot de Probabilidad de Deterioro')\n",
    "plt.show()\n"
   ]
  }
 ],
 "metadata": {
  "kernelspec": {
   "display_name": ".venv",
   "language": "python",
   "name": "python3"
  },
  "language_info": {
   "codemirror_mode": {
    "name": "ipython",
    "version": 3
   },
   "file_extension": ".py",
   "mimetype": "text/x-python",
   "name": "python",
   "nbconvert_exporter": "python",
   "pygments_lexer": "ipython3",
   "version": "3.12.7"
  }
 },
 "nbformat": 4,
 "nbformat_minor": 5
}
