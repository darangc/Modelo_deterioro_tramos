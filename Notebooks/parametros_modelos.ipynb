{
 "cells": [
  {
   "cell_type": "markdown",
   "id": "8bd4f177-1f0f-4bef-ae9c-b8c282c2d74f",
   "metadata": {},
   "source": [
    "# Obtener parámetros de modelos"
   ]
  },
  {
   "cell_type": "code",
   "execution_count": 1,
   "id": "d3497d1b-2749-4241-9a9b-5c4bd38760b3",
   "metadata": {},
   "outputs": [],
   "source": [
    "from sklearn.neural_network import MLPClassifier\n",
    "from sklearn.ensemble import RandomForestClassifier, GradientBoostingClassifier, HistGradientBoostingClassifier\n",
    "from sklearn.linear_model import LogisticRegression\n",
    "from sklearn.svm import SVC, SVR, LinearSVC\n",
    "from sklearn.neighbors import KNeighborsClassifier\n",
    "from sklearn.tree import DecisionTreeClassifier\n",
    "from sklearn.naive_bayes import GaussianNB"
   ]
  },
  {
   "cell_type": "code",
   "execution_count": 2,
   "id": "d4feb2f7-8471-4aed-a6ef-bdd36b99256d",
   "metadata": {},
   "outputs": [],
   "source": [
    "modelos = [\n",
    "    # SVC(),\n",
    "    # SVR()\n",
    "    # LinearSVC(),\n",
    "    # GaussianNB(),\n",
    "    # KNeighborsClassifier(),\n",
    "    # RandomForestClassifier(),\n",
    "    # MLPClassifier(),\n",
    "    # LogisticRegression(),\n",
    "    # GradientBoostingClassifier(),\n",
    "    HistGradientBoostingClassifier(),\n",
    "    # DecisionTreeClassifier(),\n",
    "]"
   ]
  },
  {
   "cell_type": "code",
   "execution_count": 3,
   "id": "2d05159e-f186-4c3a-b4cd-e02d3ede5957",
   "metadata": {},
   "outputs": [
    {
     "name": "stdout",
     "output_type": "stream",
     "text": [
      "\n",
      "HistGradientBoostingClassifier()\n",
      "\t'categorical_features'   : ['warn', ],\n",
      "\t'class_weight'           : [None, ],\n",
      "\t'interaction_cst'        : [None, ],\n",
      "\t'l2_regularization'      : [0.0, ],\n",
      "\t'learning_rate'          : [0.1, 0.01, 1.0, ],\n",
      "\t'loss'                   : ['log_loss', ],\n",
      "\t'max_bins'               : [255, 25.5, 2550, ],\n",
      "\t'max_depth'              : [None, ],\n",
      "\t'max_features'           : [1.0, 0.1, 10.0, ],\n",
      "\t'max_iter'               : [100, 10.0, 1000, ],\n",
      "\t'max_leaf_nodes'         : [31, 3.1, 310, ],\n",
      "\t'min_samples_leaf'       : [20, 2.0, 200, ],\n",
      "\t'monotonic_cst'          : [None, ],\n",
      "\t'n_iter_no_change'       : [10, 1.0, 100, ],\n",
      "\t'scoring'                : ['loss', ],\n",
      "\t'tol'                    : [1e-07, 1e-08, 1e-06, ],\n",
      "\t'validation_fraction'    : [0.1, 0.01, 1.0, ],\n"
     ]
    }
   ],
   "source": [
    "for modelo in modelos:\n",
    "    parametros = modelo.get_params()\n",
    "    print(f\"\\n{modelo.__class__.__name__}()\")\n",
    "    for parametro, valor in parametros.items():\n",
    "        if parametro in [\"verbose\", \"shuffle\", \"random_state\", \"warm_start\", \"early_stopping\"]:\n",
    "            continue\n",
    "\n",
    "        param_str = f\"'{parametro}'\"\n",
    "        valor_str = f\"{valor}\"\n",
    "        if isinstance(valor, str):\n",
    "            valor_str = f\"'{valor}'\"\n",
    "        elif isinstance(valor, bool):\n",
    "            valor_str = f\"{valor}, {not valor}\"\n",
    "        elif isinstance(valor, (int, float)):\n",
    "            if valor != 0:\n",
    "                valor_str = f\"{valor}, {valor/10}, {valor*10}\"\n",
    "        print(f\"\\t{param_str:<25s}: [{valor_str}, ],\")"
   ]
  },
  {
   "cell_type": "code",
   "execution_count": null,
   "id": "836b749d-d880-443e-bbd6-c3be6526ab02",
   "metadata": {},
   "outputs": [],
   "source": []
  }
 ],
 "metadata": {
  "kernelspec": {
   "display_name": "Python 3 (ipykernel)",
   "language": "python",
   "name": "python3"
  },
  "language_info": {
   "codemirror_mode": {
    "name": "ipython",
    "version": 3
   },
   "file_extension": ".py",
   "mimetype": "text/x-python",
   "name": "python",
   "nbconvert_exporter": "python",
   "pygments_lexer": "ipython3",
   "version": "3.12.5"
  }
 },
 "nbformat": 4,
 "nbformat_minor": 5
}
